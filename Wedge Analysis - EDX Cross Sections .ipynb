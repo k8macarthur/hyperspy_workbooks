{
 "cells": [
  {
   "cell_type": "markdown",
   "metadata": {},
   "source": [
    "This is a personal workbook used to process my own data but has been made public for the use of others. If you find any errors or need further help using this workbook please contact k8macarthur@gmail.com."
   ]
  },
  {
   "cell_type": "markdown",
   "metadata": {},
   "source": [
    "Begin by importing the Hyperspy Function Library."
   ]
  },
  {
   "cell_type": "code",
   "execution_count": 1,
   "metadata": {
    "collapsed": false
   },
   "outputs": [],
   "source": [
    "import matplotlib\n",
    "matplotlib.rcParams[\"backend\"] = 'Qt4Agg'\n",
    "import hyperspy.api as hs\n",
    "import numpy as np\n",
    "%matplotlib qt4"
   ]
  },
  {
   "cell_type": "markdown",
   "metadata": {},
   "source": [
    "# Step 1: Import the Pt Wedge"
   ]
  },
  {
   "cell_type": "markdown",
   "metadata": {},
   "source": [
    "Opens a load window. Use hs.load('filename') if filename is known specifically."
   ]
  },
  {
   "cell_type": "code",
   "execution_count": 2,
   "metadata": {
    "collapsed": false
   },
   "outputs": [],
   "source": [
    "Pt_wedge = hs.load()"
   ]
  },
  {
   "cell_type": "markdown",
   "metadata": {},
   "source": [
    "These next two lines are needed for .bcf files from Bruker/Espirit as the imported data comes as a list containing both the ADF image and EDX spectral data cube."
   ]
  },
  {
   "cell_type": "code",
   "execution_count": 3,
   "metadata": {
    "collapsed": true
   },
   "outputs": [
    {
     "ename": "TypeError",
     "evalue": "'EDSTEMSpectrum' object does not support indexing",
     "output_type": "error",
     "traceback": [
      "\u001b[0;31m---------------------------------------------------------------------------\u001b[0m",
      "\u001b[0;31mTypeError\u001b[0m                                 Traceback (most recent call last)",
      "\u001b[0;32m<ipython-input-3-a6db1f6c83d7>\u001b[0m in \u001b[0;36m<module>\u001b[0;34m()\u001b[0m\n\u001b[0;32m----> 1\u001b[0;31m \u001b[0mPt_wedge_image\u001b[0m \u001b[0;34m=\u001b[0m \u001b[0mPt_wedge\u001b[0m\u001b[0;34m[\u001b[0m\u001b[0;36m0\u001b[0m\u001b[0;34m]\u001b[0m\u001b[0;34m\u001b[0m\u001b[0m\n\u001b[0m\u001b[1;32m      2\u001b[0m \u001b[0mPt_wedge\u001b[0m \u001b[0;34m=\u001b[0m \u001b[0mPt_wedge\u001b[0m\u001b[0;34m[\u001b[0m\u001b[0;36m1\u001b[0m\u001b[0;34m]\u001b[0m\u001b[0;34m\u001b[0m\u001b[0m\n",
      "\u001b[0;31mTypeError\u001b[0m: 'EDSTEMSpectrum' object does not support indexing"
     ]
    }
   ],
   "source": [
    "Pt_wedge_image = Pt_wedge[0]\n",
    "Pt_wedge = Pt_wedge[1]"
   ]
  },
  {
   "cell_type": "code",
   "execution_count": 4,
   "metadata": {
    "collapsed": true
   },
   "outputs": [],
   "source": [
    "Pt_wedge.set_signal_type('EDS_TEM')\n",
    "Pt_wedge.metadata.General.title = 'Original Data Wedge'"
   ]
  },
  {
   "cell_type": "markdown",
   "metadata": {},
   "source": [
    "Check that the wedge has sensible dimensions and shape, \n",
    "that the labelling has been done correctly."
   ]
  },
  {
   "cell_type": "code",
   "execution_count": 6,
   "metadata": {
    "collapsed": false
   },
   "outputs": [
    {
     "data": {
      "text/plain": [
       "<EDSTEMSpectrum, title: Original Data Wedge, dimensions: (1024, 64|1024)>"
      ]
     },
     "execution_count": 6,
     "metadata": {},
     "output_type": "execute_result"
    }
   ],
   "source": [
    "Pt_wedge"
   ]
  },
  {
   "cell_type": "markdown",
   "metadata": {},
   "source": [
    "Adjust the metadata for all the microscope parameters."
   ]
  },
  {
   "cell_type": "code",
   "execution_count": 7,
   "metadata": {
    "collapsed": false
   },
   "outputs": [
    {
     "data": {
      "text/html": [
       "<style>\n",
       "table, th, td {\n",
       "\tborder: 1px solid black;\n",
       "\tborder-collapse: collapse;\n",
       "}\n",
       "th, td {\n",
       "\tpadding: 5px;\n",
       "}\n",
       "</style>\n",
       "<p><b>< Axes manager, axes: (1024, 64|1024) ></b></p>\n",
       "<table style='width:100%'>\n",
       "\n",
       "<tr> \n",
       "<th>Navigation axis name</th> \n",
       "<th>size</th> \n",
       "<th>index</th> \n",
       "<th>offset</th> \n",
       "<th>scale</th> \n",
       "<th>units</th> </tr>\n",
       "<tr> \n",
       "<td>x</td> \n",
       "<td>1024</td> \n",
       "<td>0</td> \n",
       "<td>0.0</td> \n",
       "<td>17.5762341883945</td> \n",
       "<td>nm</td> </tr>\n",
       "<tr> \n",
       "<td>y</td> \n",
       "<td>64</td> \n",
       "<td>0</td> \n",
       "<td>9719.657506182159</td> \n",
       "<td>17.5762341883945</td> \n",
       "<td>nm</td> </tr></table>\n",
       "<table style='width:100%'>\n",
       "\n",
       "<tr> \n",
       "<th>Signal axis name</th> \n",
       "<th>size</th> \n",
       "<th>offset</th> \n",
       "<th>scale</th> \n",
       "<th>units</th> </tr>\n",
       "<tr> \n",
       "<td>Energy</td> \n",
       "<td>1024</td> \n",
       "<td>-0.233</td> \n",
       "<td>0.01</td> \n",
       "<td>keV</td> </tr></table>\n"
      ],
      "text/plain": [
       "<Axes manager, axes: (1024, 64|1024)>\n",
       "            Name |   size |  index |  offset |   scale |  units \n",
       "================ | ====== | ====== | ======= | ======= | ====== \n",
       "               x |   1024 |      0 |       0 |      18 |     nm \n",
       "               y |     64 |      0 | 9.7e+03 |      18 |     nm \n",
       "---------------- | ------ | ------ | ------- | ------- | ------ \n",
       "          Energy |   1024 |        |   -0.23 |    0.01 |    keV "
      ]
     },
     "execution_count": 7,
     "metadata": {},
     "output_type": "execute_result"
    }
   ],
   "source": [
    "Pt_wedge.axes_manager[0].name = 'x'\n",
    "Pt_wedge.axes_manager[1].name = 'y'\n",
    "Pt_wedge.axes_manager"
   ]
  },
  {
   "cell_type": "markdown",
   "metadata": {},
   "source": [
    "The axes_manager.gui() can be used to set all the axis properties. The scale of the navigational axis should be in nm for the later processing."
   ]
  },
  {
   "cell_type": "code",
   "execution_count": 8,
   "metadata": {
    "collapsed": true
   },
   "outputs": [],
   "source": [
    "Pt_wedge.axes_manager.gui()"
   ]
  },
  {
   "cell_type": "markdown",
   "metadata": {},
   "source": [
    "The next two lines can be used if the data needs cropping before further analyis. \n",
    "\n",
    "Data is cropped based on the pixel number ranges used. The crop range can be plotted first, before cropping."
   ]
  },
  {
   "cell_type": "code",
   "execution_count": 10,
   "metadata": {
    "collapsed": true
   },
   "outputs": [],
   "source": [
    "Pt_wedge.inav[0:1024, 553:617].plot()"
   ]
  },
  {
   "cell_type": "markdown",
   "metadata": {},
   "source": [
    "Cropping is performed and then the new data replotted."
   ]
  },
  {
   "cell_type": "code",
   "execution_count": 11,
   "metadata": {
    "collapsed": false
   },
   "outputs": [],
   "source": [
    "Pt_wedge0 = Pt_wedge\n",
    "Pt_wedge = Pt_wedge.inav[0:1024, 553:617]\n",
    "Pt_wedge.plot()"
   ]
  },
  {
   "cell_type": "code",
   "execution_count": 8,
   "metadata": {
    "collapsed": false
   },
   "outputs": [
    {
     "data": {
      "text/plain": [
       "├── Acquisition_instrument\n",
       "│   └── TEM\n",
       "│       ├── Detector\n",
       "│       │   └── EDS\n",
       "│       │       ├── azimuth_angle = 45.0\n",
       "│       │       ├── detector_type = SuperX\n",
       "│       │       ├── elevation_angle = 18.0\n",
       "│       │       ├── energy_resolution_MnKa = 130.0\n",
       "│       │       ├── live_time = 1\n",
       "│       │       └── real_time = 0.002696\n",
       "│       ├── beam_current = 0.039\n",
       "│       ├── beam_energy = 200.0\n",
       "│       ├── stage_x = None\n",
       "│       ├── stage_y = None\n",
       "│       └── tilt_stage = 0.0\n",
       "├── General\n",
       "│   ├── original_filename = Pt01-compressed.bcf\n",
       "│   └── title = Original Data Wedge\n",
       "├── Sample\n",
       "│   ├── elements = ['Pt']\n",
       "│   ├── name = Image 1975\n",
       "│   └── xray_lines = ['Pt_La']\n",
       "└── Signal\n",
       "    ├── binned = True\n",
       "    └── signal_type = EDS_TEM"
      ]
     },
     "execution_count": 8,
     "metadata": {},
     "output_type": "execute_result"
    }
   ],
   "source": [
    "Pt_wedge.metadata"
   ]
  },
  {
   "cell_type": "markdown",
   "metadata": {},
   "source": [
    "Adjust all the metadata for the microscope parameters.\n",
    "\n",
    "(Live_time is not needed for quantification but currently prevents the code from running further if not set.)"
   ]
  },
  {
   "cell_type": "code",
   "execution_count": 13,
   "metadata": {
    "collapsed": false
   },
   "outputs": [],
   "source": [
    "#Pt_wedge.set_microscope_parameters(beam_energy = 200)\n",
    "Pt_wedge.set_microscope_parameters(live_time = 1)\n",
    "Pt_wedge.set_microscope_parameters(beam_current = 0.039) #in nA\n",
    "Pt_wedge.set_microscope_parameters(real_time = 0.002696) #dwell time per pixel"
   ]
  },
  {
   "cell_type": "markdown",
   "metadata": {},
   "source": [
    "Adjust the metadata for all the sample parameters."
   ]
  },
  {
   "cell_type": "code",
   "execution_count": 9,
   "metadata": {
    "collapsed": false
   },
   "outputs": [],
   "source": [
    "Pt_wedge.set_elements(['Pt'])\n",
    "Pt_wedge.set_lines(['Pt_La'])"
   ]
  },
  {
   "cell_type": "markdown",
   "metadata": {},
   "source": [
    "Finally look at the original raw data in plot mode."
   ]
  },
  {
   "cell_type": "code",
   "execution_count": 10,
   "metadata": {
    "collapsed": false
   },
   "outputs": [],
   "source": [
    "Pt_wedge.plot(True)"
   ]
  },
  {
   "cell_type": "markdown",
   "metadata": {},
   "source": [
    "Save the data, with all the added metadata, for repeat processing if necessary."
   ]
  },
  {
   "cell_type": "code",
   "execution_count": 17,
   "metadata": {
    "collapsed": false
   },
   "outputs": [],
   "source": [
    "Pt_wedge.save('Pt01EDX-processed')"
   ]
  },
  {
   "cell_type": "markdown",
   "metadata": {},
   "source": [
    "# Step 2: Extract the intensity map for the wedge"
   ]
  },
  {
   "cell_type": "markdown",
   "metadata": {},
   "source": [
    "Define the background subtraction windows:\n",
    "\n",
    "*These can be edited or modified manually as necessary depending on what they look like.*"
   ]
  },
  {
   "cell_type": "code",
   "execution_count": 11,
   "metadata": {
    "collapsed": false
   },
   "outputs": [
    {
     "data": {
      "text/plain": [
       "array([[ 8.47913271,  8.63962726,  9.7630891 ,  9.92358364]])"
      ]
     },
     "execution_count": 11,
     "metadata": {},
     "output_type": "execute_result"
    }
   ],
   "source": [
    "Pt_wedge.add_lines()\n",
    "bw_Pt = Pt_wedge.estimate_background_windows(line_width=[5.0, 2.0])\n",
    "bw_Pt"
   ]
  },
  {
   "cell_type": "markdown",
   "metadata": {},
   "source": [
    "Define the integration windows:\n",
    "\n",
    "*The automatic integration window is 2xFWHM. However this might vary depending on counts. For accurate quantification we want to integrate over the same absolute windows so we need to define them for exact use later on. Using FWHM is a reasable first measure approach for this.*"
   ]
  },
  {
   "cell_type": "code",
   "execution_count": 12,
   "metadata": {
    "collapsed": false
   },
   "outputs": [
    {
     "data": {
      "text/plain": [
       "[[9.281605451805987, 9.65]]"
      ]
     },
     "execution_count": 12,
     "metadata": {},
     "output_type": "execute_result"
    }
   ],
   "source": [
    "iw_Pt =  Pt_wedge.estimate_integration_windows(windows_width=2)\n",
    "iw_Pt[0][1] = 9.65\n",
    "iw_Pt"
   ]
  },
  {
   "cell_type": "markdown",
   "metadata": {},
   "source": [
    "Plot the sum spectrum with all the background windows to check that nothing overlaps detrimentally. \n",
    "\n",
    "*The integration windows should only contain the individual element peak in question otherwise some form of deconvolution method may be required for integration. The background windows should overlap with no peaks.*"
   ]
  },
  {
   "cell_type": "code",
   "execution_count": 13,
   "metadata": {
    "collapsed": false
   },
   "outputs": [
    {
     "name": "stderr",
     "output_type": "stream",
     "text": [
      "//anaconda/lib/python3.5/site-packages/matplotlib/__init__.py:892: UserWarning: axes.color_cycle is deprecated and replaced with axes.prop_cycle; please use the latter.\n",
      "  warnings.warn(self.msg_depr % (key, alt_key))\n"
     ]
    }
   ],
   "source": [
    "Pt_wedge.sum().plot(True, background_windows=bw_Pt, integration_windows=iw_Pt)"
   ]
  },
  {
   "cell_type": "markdown",
   "metadata": {},
   "source": [
    "Now extract the intensity map from your spectrum image."
   ]
  },
  {
   "cell_type": "code",
   "execution_count": 46,
   "metadata": {
    "collapsed": false
   },
   "outputs": [
    {
     "data": {
      "text/plain": [
       "[<Signal2D, title: X-ray line intensity of Original Data Wedge: Pt_La at 9.44 keV, dimensions: (|1024, 64)>]"
      ]
     },
     "execution_count": 46,
     "metadata": {},
     "output_type": "execute_result"
    }
   ],
   "source": [
    "inten_Pt = Pt_wedge.get_lines_intensity(integration_windows=iw_Pt, background_windows=bw_Pt)\n",
    "inten_Pt[0].plot()\n",
    "inten_Pt"
   ]
  },
  {
   "cell_type": "markdown",
   "metadata": {},
   "source": [
    "This final line is needed when combining multiple x-ray lines for each element."
   ]
  },
  {
   "cell_type": "code",
   "execution_count": 17,
   "metadata": {
    "collapsed": true
   },
   "outputs": [
    {
     "ename": "IndexError",
     "evalue": "list index out of range",
     "output_type": "error",
     "traceback": [
      "\u001b[0;31m---------------------------------------------------------------------------\u001b[0m",
      "\u001b[0;31mIndexError\u001b[0m                                Traceback (most recent call last)",
      "\u001b[0;32m<ipython-input-17-d6a63e910b78>\u001b[0m in \u001b[0;36m<module>\u001b[0;34m()\u001b[0m\n\u001b[0;32m----> 1\u001b[0;31m \u001b[0minten_Pt\u001b[0m \u001b[0;34m=\u001b[0m \u001b[0minten\u001b[0m\u001b[0;34m[\u001b[0m\u001b[0;36m0\u001b[0m\u001b[0;34m]\u001b[0m\u001b[0;34m+\u001b[0m\u001b[0minten\u001b[0m\u001b[0;34m[\u001b[0m\u001b[0;36m1\u001b[0m\u001b[0;34m]\u001b[0m\u001b[0;34m\u001b[0m\u001b[0m\n\u001b[0m",
      "\u001b[0;31mIndexError\u001b[0m: list index out of range"
     ]
    }
   ],
   "source": [
    "inten_Pt = inten_Pt[0]+inten_Pt[1]"
   ]
  },
  {
   "cell_type": "markdown",
   "metadata": {},
   "source": [
    "# Step 3: Repeat Everything Above for Ni"
   ]
  },
  {
   "cell_type": "code",
   "execution_count": 16,
   "metadata": {
    "collapsed": false
   },
   "outputs": [
    {
     "data": {
      "text/plain": [
       "<EDSTEMSpectrum, title: Original Data Wedge, dimensions: (1024, 64|1024)>"
      ]
     },
     "execution_count": 16,
     "metadata": {},
     "output_type": "execute_result"
    }
   ],
   "source": [
    "Ni_wedge = hs.load()\n",
    "#Separate out the image and spectrum image from .bcl files.\n",
    "#Ni_wedge_image = Ni_wedge[0]\n",
    "#Ni_wedge = Ni_wedge[1]\n",
    "\n",
    "Ni_wedge.set_signal_type('EDS_TEM')\n",
    "Ni_wedge.metadata.General.title = 'Original Data Wedge'\n",
    "\n",
    "Ni_wedge"
   ]
  },
  {
   "cell_type": "code",
   "execution_count": 17,
   "metadata": {
    "collapsed": false
   },
   "outputs": [
    {
     "data": {
      "text/html": [
       "<style>\n",
       "table, th, td {\n",
       "\tborder: 1px solid black;\n",
       "\tborder-collapse: collapse;\n",
       "}\n",
       "th, td {\n",
       "\tpadding: 5px;\n",
       "}\n",
       "</style>\n",
       "<p><b>< Axes manager, axes: (1024, 64|1024) ></b></p>\n",
       "<table style='width:100%'>\n",
       "\n",
       "<tr> \n",
       "<th>Navigation axis name</th> \n",
       "<th>size</th> \n",
       "<th>index</th> \n",
       "<th>offset</th> \n",
       "<th>scale</th> \n",
       "<th>units</th> </tr>\n",
       "<tr> \n",
       "<td>width</td> \n",
       "<td>1024</td> \n",
       "<td>0</td> \n",
       "<td>0.0</td> \n",
       "<td>17.5762341883945</td> \n",
       "<td>nm</td> </tr>\n",
       "<tr> \n",
       "<td>height</td> \n",
       "<td>64</td> \n",
       "<td>0</td> \n",
       "<td>8436.59241042936</td> \n",
       "<td>17.5762341883945</td> \n",
       "<td>nm</td> </tr></table>\n",
       "<table style='width:100%'>\n",
       "\n",
       "<tr> \n",
       "<th>Signal axis name</th> \n",
       "<th>size</th> \n",
       "<th>offset</th> \n",
       "<th>scale</th> \n",
       "<th>units</th> </tr>\n",
       "<tr> \n",
       "<td>Energy</td> \n",
       "<td>1024</td> \n",
       "<td>-0.233</td> \n",
       "<td>0.01</td> \n",
       "<td>keV</td> </tr></table>\n"
      ],
      "text/plain": [
       "<Axes manager, axes: (1024, 64|1024)>\n",
       "            Name |   size |  index |  offset |   scale |  units \n",
       "================ | ====== | ====== | ======= | ======= | ====== \n",
       "           width |   1024 |      0 |       0 |      18 |     nm \n",
       "          height |     64 |      0 | 8.4e+03 |      18 |     nm \n",
       "---------------- | ------ | ------ | ------- | ------- | ------ \n",
       "          Energy |   1024 |        |   -0.23 |    0.01 |    keV "
      ]
     },
     "execution_count": 17,
     "metadata": {},
     "output_type": "execute_result"
    }
   ],
   "source": [
    "Ni_wedge.axes_manager"
   ]
  },
  {
   "cell_type": "code",
   "execution_count": 24,
   "metadata": {
    "collapsed": true
   },
   "outputs": [],
   "source": [
    "Ni_wedge.axes_manager.gui()"
   ]
  },
  {
   "cell_type": "code",
   "execution_count": 105,
   "metadata": {
    "collapsed": false
   },
   "outputs": [
    {
     "data": {
      "text/plain": [
       "├── Acquisition_instrument\n",
       "│   └── TEM\n",
       "│       ├── Detector\n",
       "│       │   └── EDS\n",
       "│       │       ├── azimuth_angle = 45.0\n",
       "│       │       ├── detector_type = SuperX\n",
       "│       │       ├── elevation_angle = 18.0\n",
       "│       │       ├── energy_resolution_MnKa = 130.0\n",
       "│       │       ├── live_time = 1\n",
       "│       │       └── real_time = 0.0025669999999999998\n",
       "│       ├── beam_current = 0.073999999999999996\n",
       "│       ├── beam_energy  = 200\n",
       "│       ├── stage_x = None\n",
       "│       ├── stage_y = None\n",
       "│       └── tilt_stage = 0.0\n",
       "├── General\n",
       "│   ├── original_filename = Ni02-compressed.bcf\n",
       "│   └── title = Original Data Wedge\n",
       "├── Sample\n",
       "│   ├── elements = ['Ni']\n",
       "│   ├── name = Image 1978\n",
       "│   └── xray_lines = ['Ni_Ka', 'Ni_Kb']\n",
       "└── Signal\n",
       "    ├── binned = True\n",
       "    └── signal_type = EDS_TEM"
      ]
     },
     "execution_count": 105,
     "metadata": {},
     "output_type": "execute_result"
    }
   ],
   "source": [
    "Ni_wedge.set_elements(['Ni'])\n",
    "Ni_wedge.set_lines(['Ni_Ka', 'Ni_Kb'])\n",
    "Ni_wedge.metadata"
   ]
  },
  {
   "cell_type": "code",
   "execution_count": 106,
   "metadata": {
    "collapsed": true
   },
   "outputs": [],
   "source": [
    "Ni_wedge.set_microscope_parameters(beam_energy = 200)\n",
    "Ni_wedge.set_microscope_parameters(live_time = 1)\n",
    "Ni_wedge.set_microscope_parameters(beam_current = 0.074) #in nA\n",
    "Ni_wedge.set_microscope_parameters(real_time = 0.002567) #dwell time per pixel"
   ]
  },
  {
   "cell_type": "code",
   "execution_count": 107,
   "metadata": {
    "collapsed": false
   },
   "outputs": [
    {
     "data": {
      "text/plain": [
       "array([[ 6.61175942,  6.75614952,  8.5667927 ,  8.71783905],\n",
       "       [ 6.61175942,  6.75614952,  8.5667927 ,  8.71783905]])"
      ]
     },
     "execution_count": 107,
     "metadata": {},
     "output_type": "execute_result"
    }
   ],
   "source": [
    "Ni_wedge.plot(True)\n",
    "Ni_wedge.add_lines()\n",
    "bw_Ni = Ni_wedge.estimate_background_windows(line_width=[5.0, 2.0])\n",
    "bw_Ni"
   ]
  },
  {
   "cell_type": "code",
   "execution_count": 108,
   "metadata": {
    "collapsed": false
   },
   "outputs": [
    {
     "data": {
      "text/plain": [
       "[[7.333709903386694, 7.622490096613307], [8.11365364949791, 8.415746350502088]]"
      ]
     },
     "execution_count": 108,
     "metadata": {},
     "output_type": "execute_result"
    }
   ],
   "source": [
    "iw_Ni = Ni_wedge.estimate_integration_windows(windows_width=2)\n",
    "iw_Ni"
   ]
  },
  {
   "cell_type": "code",
   "execution_count": 20,
   "metadata": {
    "collapsed": false
   },
   "outputs": [
    {
     "name": "stderr",
     "output_type": "stream",
     "text": [
      "//anaconda/lib/python3.5/site-packages/matplotlib/__init__.py:892: UserWarning: axes.color_cycle is deprecated and replaced with axes.prop_cycle; please use the latter.\n",
      "  warnings.warn(self.msg_depr % (key, alt_key))\n"
     ]
    }
   ],
   "source": [
    "Ni_wedge.sum().plot(True, background_windows=bw_Ni, integration_windows=iw_Ni)"
   ]
  },
  {
   "cell_type": "code",
   "execution_count": 32,
   "metadata": {
    "collapsed": false
   },
   "outputs": [],
   "source": [
    "Ni_wedge.inav[0:1024, 480:544].plot()"
   ]
  },
  {
   "cell_type": "code",
   "execution_count": 33,
   "metadata": {
    "collapsed": false
   },
   "outputs": [],
   "source": [
    "Ni_wedge0 = Ni_wedge\n",
    "Ni_wedge = Ni_wedge.inav[0:1024, 480:544]\n",
    "Ni_wedge.plot()"
   ]
  },
  {
   "cell_type": "code",
   "execution_count": 34,
   "metadata": {
    "collapsed": false
   },
   "outputs": [],
   "source": [
    "Ni_wedge.save('Ni02EDX-processed')"
   ]
  },
  {
   "cell_type": "code",
   "execution_count": 22,
   "metadata": {
    "collapsed": false
   },
   "outputs": [
    {
     "data": {
      "text/plain": [
       "[<Signal2D, title: X-ray line intensity of Original Data Wedge: Ni_Ka at 7.48 keV, dimensions: (|1024, 64)>]"
      ]
     },
     "execution_count": 22,
     "metadata": {},
     "output_type": "execute_result"
    }
   ],
   "source": [
    "inten_Ni = Ni_wedge.get_lines_intensity(background_windows=bw_Ni)\n",
    "inten_Ni"
   ]
  },
  {
   "cell_type": "code",
   "execution_count": null,
   "metadata": {
    "collapsed": true
   },
   "outputs": [],
   "source": [
    "inten_Ni = inten_Ni[0]+inten_Ni[1]"
   ]
  },
  {
   "cell_type": "markdown",
   "metadata": {},
   "source": [
    "# Step 4: Convert from the intensity map to Cross Section\n",
    "The following function will calculate the cross section of a for a single element wedge sample with a known angle. It assumes that the line profile is parallel to the x-axis in the image. \n",
    "\n",
    "*The function will also print the error in the gradient measurement which is important for subsequent error analysis of the quantificationt results.*"
   ]
  },
  {
   "cell_type": "code",
   "execution_count": 25,
   "metadata": {
    "collapsed": false
   },
   "outputs": [],
   "source": [
    "def cross_section_from_wedge(intensity,\n",
    "                            angle,\n",
    "                            atomic_density):\n",
    "    \"\"\"\n",
    "    \n",
    "    Parameters\n",
    "    ----------\n",
    "        \n",
    "    intensity : array\n",
    "        \n",
    "    angle : float\n",
    "        Of the FIB wedge in degrees.\n",
    "    atomic_density: float \n",
    "        Of the particular element in units of atoms/nm^3.\n",
    "        (Pt = 33.2026, Ni = 45.8566)\n",
    "    \n",
    "    Returns\n",
    "    -------\n",
    "    cross_section : float\n",
    "        partial ionisation cross section\n",
    "    \n",
    "    \"\"\"\n",
    "    \n",
    "    from scipy import constants\n",
    "    import math\n",
    "    e = constants.e\n",
    "    parameters = intensity[0].metadata.Acquisition_instrument.TEM\n",
    "    curr = parameters.beam_current\n",
    "    dwell = parameters.Detector.EDS.real_time\n",
    "    width = intensity[0].axes_manager[0].scale\n",
    "    angle = angle/360*constants.pi*2\n",
    "\n",
    "    #begin by converting the intensity array to a line profile.\n",
    "    #works for square images, needs checking for those which are non-square.\n",
    "    line_scan = np.zeros(intensity[0].axes_manager.signal_shape[0])\n",
    "    line_scan.astype(float)\n",
    "    for row in range(intensity[0].axes_manager.signal_shape[1]):\n",
    "        for col in range(intensity[0].axes_manager.signal_shape[0]):\n",
    "            line_scan[col] = intensity[0].data[row, col] + line_scan[col]\n",
    "    \n",
    "    line_scan = line_scan/(intensity[0].axes_manager.signal_shape[1]*width)\n",
    "    x_data = np.zeros(intensity[0].axes_manager.signal_shape[0])\n",
    "    x_data.astype(float)\n",
    "    for i in range(intensity[0].axes_manager.signal_shape[0]):\n",
    "        x_data[i] = i*width\n",
    "    \n",
    "    import matplotlib.pyplot as plt\n",
    "    plt.figure(figsize=(10, 6), dpi=80)\n",
    "    plt.plot(x_data, line_scan)\n",
    "    plt.show()\n",
    "    #curve fitting to line scan to find gradient\n",
    "    #using  a non-linear least squares fitting.\n",
    "    from scipy.optimize import curve_fit\n",
    "    def func(x, m, c):\n",
    "        return m*x + c\n",
    "    popt, pcov = curve_fit(func, x_data, line_scan)\n",
    "    \n",
    "    m = popt[0]\n",
    "    print('m =', m)\n",
    "    perr = np.sqrt(np.diag(pcov))\n",
    "    m_err = perr[0] #the error in m measurement\n",
    "    print('Error in m =', m_err)\n",
    "    \n",
    "    #calculate cross_section\n",
    "    cross_section = (e*1E19*m)/(curr*dwell*atomic_density*math.tan(angle))\n",
    "    return cross_section"
   ]
  },
  {
   "cell_type": "markdown",
   "metadata": {},
   "source": [
    "Calculate the cross section for each element from the previously extracted intensity maps."
   ]
  },
  {
   "cell_type": "code",
   "execution_count": 84,
   "metadata": {
    "collapsed": false
   },
   "outputs": [
    {
     "data": {
      "text/plain": [
       "[<Signal2D, title: X-ray line intensity of Original Data Wedge: Pt_La at 9.44 keV, dimensions: (|475, 64)>]"
      ]
     },
     "execution_count": 84,
     "metadata": {},
     "output_type": "execute_result"
    }
   ],
   "source": [
    "inten_Pt[0] = inten_Pt[0].isig[:475, :]\n",
    "inten_Pt"
   ]
  },
  {
   "cell_type": "code",
   "execution_count": 97,
   "metadata": {
    "collapsed": false
   },
   "outputs": [],
   "source": [
    "inten_Pt[0].save('PtEDX01-inten')"
   ]
  },
  {
   "cell_type": "code",
   "execution_count": 85,
   "metadata": {
    "collapsed": false
   },
   "outputs": [
    {
     "name": "stdout",
     "output_type": "stream",
     "text": [
      "m = 7.99456305256e-05\n",
      "Error in m = 8.29810009806e-07\n"
     ]
    },
    {
     "name": "stderr",
     "output_type": "stream",
     "text": [
      "//anaconda/lib/python3.5/site-packages/matplotlib/pyplot.py:516: RuntimeWarning: More than 20 figures have been opened. Figures created through the pyplot interface (`matplotlib.pyplot.figure`) are retained until explicitly closed and may consume too much memory. (To control this warning, see the rcParam `figure.max_open_warning`).\n",
      "  max_open_warning, RuntimeWarning)\n"
     ]
    }
   ],
   "source": [
    "cross_section_Pt = cross_section_from_wedge(inten_Pt,\n",
    "                                            0.269,\n",
    "                                            33.2026)"
   ]
  },
  {
   "cell_type": "markdown",
   "metadata": {},
   "source": [
    "An interative process of cropping the line profile to only the linear region is needed for accurate cross section determination. We only want the gradient where the x-ray generation is linear with sample thickness."
   ]
  },
  {
   "cell_type": "code",
   "execution_count": 80,
   "metadata": {
    "collapsed": false
   },
   "outputs": [
    {
     "data": {
      "text/plain": [
       "[<Signal2D, title: X-ray line intensity of Original Data Wedge: Ni_Ka at 7.48 keV, dimensions: (|400, 64)>]"
      ]
     },
     "execution_count": 80,
     "metadata": {},
     "output_type": "execute_result"
    }
   ],
   "source": [
    "inten_Ni[0] = inten_Ni[0].isig[:400, :]\n",
    "inten_Ni"
   ]
  },
  {
   "cell_type": "code",
   "execution_count": 81,
   "metadata": {
    "collapsed": false
   },
   "outputs": [
    {
     "name": "stdout",
     "output_type": "stream",
     "text": [
      "m = 0.000323058447471\n",
      "Error in m = 2.00357066389e-06\n"
     ]
    },
    {
     "name": "stderr",
     "output_type": "stream",
     "text": [
      "//anaconda/lib/python3.5/site-packages/matplotlib/pyplot.py:516: RuntimeWarning: More than 20 figures have been opened. Figures created through the pyplot interface (`matplotlib.pyplot.figure`) are retained until explicitly closed and may consume too much memory. (To control this warning, see the rcParam `figure.max_open_warning`).\n",
      "  max_open_warning, RuntimeWarning)\n"
     ]
    }
   ],
   "source": [
    "cross_section_Ni = cross_section_from_wedge(inten_Ni,\n",
    "                                           0.401,\n",
    "                                           45.8566)"
   ]
  },
  {
   "cell_type": "code",
   "execution_count": 86,
   "metadata": {
    "collapsed": false
   },
   "outputs": [
    {
     "name": "stdout",
     "output_type": "stream",
     "text": [
      "Cross Section Pt 7.81476090922\n",
      "Cross Section Ni 8.48991263031\n"
     ]
    }
   ],
   "source": [
    "print('Cross Section Pt', cross_section_Pt)\n",
    "print('Cross Section Ni', cross_section_Ni)"
   ]
  },
  {
   "cell_type": "code",
   "execution_count": 98,
   "metadata": {
    "collapsed": true
   },
   "outputs": [],
   "source": [
    "inten_Ni[0].save('NiEDX02-inten')"
   ]
  },
  {
   "cell_type": "markdown",
   "metadata": {},
   "source": [
    "# Finally, store the cross sections and windows into a data base for later use:"
   ]
  },
  {
   "cell_type": "markdown",
   "metadata": {},
   "source": [
    "Convert the cross section and windows into a dictionary format."
   ]
  },
  {
   "cell_type": "code",
   "execution_count": 100,
   "metadata": {
    "collapsed": false
   },
   "outputs": [],
   "source": [
    "calibration_Pt = dict = {'lines': 'PLa', 'cross_section': cross_section_Pt,\n",
    "                         'Background windows': bw_Pt, 'Integration windows': iw_Pt}\n",
    "calibration_Ni = dict = {'lines': 'CoKa', 'cross_section': cross_section_Ni, \n",
    "                         'Background windows': bw_Ni, 'Integration windows': iw_Ni}"
   ]
  },
  {
   "cell_type": "code",
   "execution_count": 101,
   "metadata": {
    "collapsed": false
   },
   "outputs": [
    {
     "data": {
      "text/plain": [
       "{'Background windows': array([[ 8.47913271,  8.63962726,  9.7630891 ,  9.92358364]]),\n",
       " 'Integration windows': [[9.281605451805987, 9.65]],\n",
       " 'cross_section': 7.8147609092183261,\n",
       " 'lines': 'PLa'}"
      ]
     },
     "execution_count": 101,
     "metadata": {},
     "output_type": "execute_result"
    }
   ],
   "source": [
    "calibration_Pt"
   ]
  },
  {
   "cell_type": "code",
   "execution_count": 102,
   "metadata": {
    "collapsed": false
   },
   "outputs": [
    {
     "data": {
      "text/plain": [
       "8.4899126303055183"
      ]
     },
     "execution_count": 102,
     "metadata": {},
     "output_type": "execute_result"
    }
   ],
   "source": [
    "calibration = dict = {'Ni': calibration_Ni, 'Pt': calibration_Pt}\n",
    "calibration['Ni']['cross_section']"
   ]
  },
  {
   "cell_type": "code",
   "execution_count": 103,
   "metadata": {
    "collapsed": false
   },
   "outputs": [
    {
     "name": "stdout",
     "output_type": "stream",
     "text": [
      "Overwrite 'ChemiSTEMCal_V01.hdf5' (y/n)?\n",
      "y\n"
     ]
    }
   ],
   "source": [
    "cal = hs.signals.BaseSignal([0])\n",
    "cal.metadata.calibration = calibration\n",
    "cal.save('ChemiSTEMCal_V01')"
   ]
  },
  {
   "cell_type": "markdown",
   "metadata": {},
   "source": [
    "The following function can be used to check which elements are stored in the dictionary."
   ]
  },
  {
   "cell_type": "code",
   "execution_count": 104,
   "metadata": {
    "collapsed": false
   },
   "outputs": [
    {
     "data": {
      "text/plain": [
       "dict_keys(['Ni', 'Pt'])"
      ]
     },
     "execution_count": 104,
     "metadata": {},
     "output_type": "execute_result"
    }
   ],
   "source": [
    "calibration.keys()"
   ]
  },
  {
   "cell_type": "markdown",
   "metadata": {},
   "source": [
    "Any functions below this point are for testing, and not needed in the method above."
   ]
  },
  {
   "cell_type": "code",
   "execution_count": 92,
   "metadata": {
    "collapsed": false
   },
   "outputs": [],
   "source": [
    "calibration['Co'] = calibration_Ni"
   ]
  },
  {
   "cell_type": "code",
   "execution_count": 93,
   "metadata": {
    "collapsed": true
   },
   "outputs": [],
   "source": [
    "del calibration['Co']"
   ]
  },
  {
   "cell_type": "code",
   "execution_count": 94,
   "metadata": {
    "collapsed": true
   },
   "outputs": [],
   "source": [
    "calibration2 = cal.metadata.calibration"
   ]
  }
 ],
 "metadata": {
  "kernelspec": {
   "display_name": "Python 3",
   "language": "python",
   "name": "python3"
  },
  "language_info": {
   "codemirror_mode": {
    "name": "ipython",
    "version": 3
   },
   "file_extension": ".py",
   "mimetype": "text/x-python",
   "name": "python",
   "nbconvert_exporter": "python",
   "pygments_lexer": "ipython3",
   "version": "3.5.2"
  }
 },
 "nbformat": 4,
 "nbformat_minor": 0
}
