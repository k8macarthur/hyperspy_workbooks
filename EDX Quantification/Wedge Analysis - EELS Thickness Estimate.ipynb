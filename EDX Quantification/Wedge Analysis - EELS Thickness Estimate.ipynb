{
 "cells": [
  {
   "cell_type": "markdown",
   "metadata": {},
   "source": [
    "# Determining FIB Wedge Angle Using t/Lamda Measurements"
   ]
  },
  {
   "cell_type": "markdown",
   "metadata": {},
   "source": [
    "This is a personal workbook used to process my own data but has been made public for the use of others. If you find any errors or need further help using this workbook please contact k8macarthur@gmail.com. "
   ]
  },
  {
   "cell_type": "markdown",
   "metadata": {},
   "source": [
    "## Authors\n",
    "\n",
    "Katherine E. MacArthur - Originally written for EMC2016, 28.08.2016"
   ]
  },
  {
   "cell_type": "markdown",
   "metadata": {},
   "source": [
    "## Requirements\n",
    "\n",
    "This code was written to work Hyperspy version 1.1 or later."
   ]
  },
  {
   "cell_type": "markdown",
   "metadata": {},
   "source": [
    "## 1. Importing Hyperspy and Libraries"
   ]
  },
  {
   "cell_type": "markdown",
   "metadata": {},
   "source": [
    "Begin by importing the Hyperspy Function Library"
   ]
  },
  {
   "cell_type": "code",
   "execution_count": 1,
   "metadata": {
    "collapsed": false
   },
   "outputs": [
    {
     "name": "stderr",
     "output_type": "stream",
     "text": [
      "unbcf_fast library is not present...\n",
      "Falling back to slow python only backend.\n"
     ]
    }
   ],
   "source": [
    "import matplotlib\n",
    "matplotlib.rcParams[\"backend\"] = 'Qt4Agg'\n",
    "import hyperspy.api as hs\n",
    "import numpy as np\n",
    "%matplotlib qt4"
   ]
  },
  {
   "cell_type": "code",
   "execution_count": 3,
   "metadata": {
    "collapsed": true
   },
   "outputs": [],
   "source": [
    "%matplotlib inline"
   ]
  },
  {
   "cell_type": "markdown",
   "metadata": {},
   "source": [
    "## 2. Importing and Aligning Data"
   ]
  },
  {
   "cell_type": "markdown",
   "metadata": {},
   "source": [
    "Opens a load window. Use hs.load('filename') if filename is known specifically."
   ]
  },
  {
   "cell_type": "code",
   "execution_count": 2,
   "metadata": {
    "collapsed": false
   },
   "outputs": [
    {
     "name": "stderr",
     "output_type": "stream",
     "text": [
      "WARNING:hyperspy.signal:<EELSSpectrum, title: EELS Spectrum Image, dimensions: (346, 8|2048)> data is replaced by its optimized copy\n"
     ]
    }
   ],
   "source": [
    "wedge = hs.load()"
   ]
  },
  {
   "cell_type": "code",
   "execution_count": 3,
   "metadata": {
    "collapsed": false
   },
   "outputs": [
    {
     "data": {
      "text/plain": [
       "<EELSSpectrum, title: Original Data Wedge, dimensions: (346, 8|2048)>"
      ]
     },
     "execution_count": 3,
     "metadata": {},
     "output_type": "execute_result"
    }
   ],
   "source": [
    "wedge.set_signal_type('EELS')\n",
    "wedge.metadata.General.title = 'Original Data Wedge'\n",
    "wedge.set_microscope_parameters(beam_energy = 200)\n",
    "wedge"
   ]
  },
  {
   "cell_type": "markdown",
   "metadata": {},
   "source": [
    "Check current metadata."
   ]
  },
  {
   "cell_type": "code",
   "execution_count": 4,
   "metadata": {
    "collapsed": false
   },
   "outputs": [
    {
     "data": {
      "text/plain": [
       "├── Acquisition_instrument\n",
       "│   └── TEM\n",
       "│       ├── Detector\n",
       "│       │   └── EELS\n",
       "│       │       ├── aperture_size = 5.0\n",
       "│       │       ├── collection_angle = 15.151515007019043\n",
       "│       │       ├── frame_number = 625\n",
       "│       │       └── spectrometer = Enfinium ER\n",
       "│       ├── beam_energy = 200\n",
       "│       └── convergence_angle = 25.0\n",
       "├── General\n",
       "│   ├── date = 2016-09-14\n",
       "│   ├── original_filename = EELS Spectrum Image.dm3\n",
       "│   ├── time = 12:04:37\n",
       "│   └── title = Original Data Wedge\n",
       "└── Signal\n",
       "    ├── binned = True\n",
       "    └── signal_type = EELS"
      ]
     },
     "execution_count": 4,
     "metadata": {},
     "output_type": "execute_result"
    }
   ],
   "source": [
    "wedge.metadata"
   ]
  },
  {
   "cell_type": "code",
   "execution_count": 5,
   "metadata": {
    "collapsed": false
   },
   "outputs": [
    {
     "data": {
      "text/html": [
       "<style>\n",
       "table, th, td {\n",
       "\tborder: 1px solid black;\n",
       "\tborder-collapse: collapse;\n",
       "}\n",
       "th, td {\n",
       "\tpadding: 5px;\n",
       "}\n",
       "</style>\n",
       "<p><b>< Axes manager, axes: (346, 8|2048) ></b></p>\n",
       "<table style='width:100%'>\n",
       "\n",
       "<tr> \n",
       "<th>Navigation axis name</th> \n",
       "<th>size</th> \n",
       "<th>index</th> \n",
       "<th>offset</th> \n",
       "<th>scale</th> \n",
       "<th>units</th> </tr>\n",
       "<tr> \n",
       "<td>x</td> \n",
       "<td>346</td> \n",
       "<td>0</td> \n",
       "<td>-0.0</td> \n",
       "<td>1.0</td> \n",
       "<td></td> </tr>\n",
       "<tr> \n",
       "<td>y</td> \n",
       "<td>8</td> \n",
       "<td>0</td> \n",
       "<td>-0.0</td> \n",
       "<td>1.0</td> \n",
       "<td></td> </tr></table>\n",
       "<table style='width:100%'>\n",
       "\n",
       "<tr> \n",
       "<th>Signal axis name</th> \n",
       "<th>size</th> \n",
       "<th>offset</th> \n",
       "<th>scale</th> \n",
       "<th>units</th> </tr>\n",
       "<tr> \n",
       "<td>Energy loss</td> \n",
       "<td>2048</td> \n",
       "<td>-50.0</td> \n",
       "<td>0.25</td> \n",
       "<td>eV</td> </tr></table>\n"
      ],
      "text/plain": [
       "<Axes manager, axes: (346, 8|2048)>\n",
       "            Name |   size |  index |  offset |   scale |  units \n",
       "================ | ====== | ====== | ======= | ======= | ====== \n",
       "               x |    346 |      0 |      -0 |       1 |        \n",
       "               y |      8 |      0 |      -0 |       1 |        \n",
       "---------------- | ------ | ------ | ------- | ------- | ------ \n",
       "     Energy loss |   2048 |        |     -50 |    0.25 |     eV "
      ]
     },
     "execution_count": 5,
     "metadata": {},
     "output_type": "execute_result"
    }
   ],
   "source": [
    "wedge.plot()\n",
    "wedge.axes_manager"
   ]
  },
  {
   "cell_type": "markdown",
   "metadata": {},
   "source": [
    "Adjust the metadata for all the sample parameters."
   ]
  },
  {
   "cell_type": "code",
   "execution_count": 6,
   "metadata": {
    "collapsed": false
   },
   "outputs": [],
   "source": [
    "wedge.metadata.Acquisition_instrument.TEM.dwell_time = 1\n",
    "wedge.axes_manager[0].scale = 55.7\n",
    "wedge.axes_manager[1].scale = 55.7"
   ]
  },
  {
   "cell_type": "markdown",
   "metadata": {},
   "source": [
    "Extract t over lambda using estimate_thickness(point), where point is the first minimum point after the zero loss peak."
   ]
  },
  {
   "cell_type": "code",
   "execution_count": 7,
   "metadata": {
    "collapsed": false
   },
   "outputs": [
    {
     "name": "stdout",
     "output_type": "stream",
     "text": [
      "\n",
      "Initial ZLP position statistics\n",
      "-------------------------------\n",
      "Summary statistics\n",
      "------------------\n",
      "mean:\t-6.168\n",
      "std:\t3.134\n",
      "\n",
      "min:\t-11.750\n",
      "Q1:\t-8.750\n",
      "median:\t-6.250\n",
      "Q3:\t-3.750\n",
      "max:\t4.500\n"
     ]
    },
    {
     "name": "stderr",
     "output_type": "stream",
     "text": [
      "100%|██████████████████████████████████████████████████████████████████████████████| 2768/2768 [00:45<00:00, 60.64it/s]\n",
      "100%|████████████████████████████████████████████████████████████████████████████| 2768/2768 [00:01<00:00, 2485.61it/s]\n",
      "100%|██████████████████████████████████████████████████████████████████████████████| 2768/2768 [03:45<00:00, 11.30it/s]\n"
     ]
    }
   ],
   "source": [
    "wedge.align_zero_loss_peak()"
   ]
  },
  {
   "cell_type": "code",
   "execution_count": 8,
   "metadata": {
    "collapsed": false
   },
   "outputs": [
    {
     "data": {
      "text/plain": [
       "<hyperspy.gui.egerton_quantification.SpikesRemoval at 0x1e7181dc0f8>"
      ]
     },
     "execution_count": 8,
     "metadata": {},
     "output_type": "execute_result"
    }
   ],
   "source": [
    "wedge.isig[:].spikes_removal_tool()"
   ]
  },
  {
   "cell_type": "markdown",
   "metadata": {},
   "source": [
    "## 4. Extracting and Estimating Thickness Information"
   ]
  },
  {
   "cell_type": "code",
   "execution_count": 9,
   "metadata": {
    "collapsed": false
   },
   "outputs": [],
   "source": [
    "s = wedge.estimate_elastic_scattering_threshold()"
   ]
  },
  {
   "cell_type": "code",
   "execution_count": 10,
   "metadata": {
    "collapsed": false
   },
   "outputs": [],
   "source": [
    "wedge.plot()"
   ]
  },
  {
   "cell_type": "code",
   "execution_count": 11,
   "metadata": {
    "collapsed": false
   },
   "outputs": [
    {
     "name": "stderr",
     "output_type": "stream",
     "text": [
      "100%|██████████████████████████████████████████████████████████████████████████████| 2768/2768 [04:30<00:00, 10.22it/s]\n"
     ]
    }
   ],
   "source": [
    "thickness = wedge.estimate_thickness(s)\n",
    "thickness.plot()"
   ]
  },
  {
   "cell_type": "markdown",
   "metadata": {},
   "source": [
    "In order to convert t/lambda maps to thickness maps lambda has to be estimated. Here I normally use the calculator by Nestor Zaluzec. tpm.amc.anl.gov/NJZTools/NTLambdaV2.html"
   ]
  },
  {
   "cell_type": "code",
   "execution_count": 12,
   "metadata": {
    "collapsed": false
   },
   "outputs": [],
   "source": [
    "lamda = 70.21\n",
    "thickness = thickness*lamda"
   ]
  },
  {
   "cell_type": "markdown",
   "metadata": {},
   "source": [
    "## 5. Converting from the Intensity Map to a Line Profile\n",
    "\n",
    "This assumes that the line profile is parallel to the x-axis in the image."
   ]
  },
  {
   "cell_type": "code",
   "execution_count": 35,
   "metadata": {
    "collapsed": false
   },
   "outputs": [],
   "source": [
    "width = thickness.axes_manager[0].scale\n",
    "line_scan = np.zeros(thickness.data.shape[1])\n",
    "line_scan.astype(float)\n",
    "for row in range(thickness.data.shape[0]):\n",
    "    for col in range(thickness.data.shape[1]):\n",
    "        line_scan[col] = line_scan[col] + thickness.data[row, col]\n",
    "    \n",
    "line_scan = line_scan/thickness.data.shape[0]\n",
    "\n",
    "x_data = np.zeros(thickness.data.shape[1])\n",
    "x_data.astype(float)\n",
    "for i in range(thickness.data.shape[1]):\n",
    "    x_data[i] = i*width"
   ]
  },
  {
   "cell_type": "code",
   "execution_count": 36,
   "metadata": {
    "collapsed": false
   },
   "outputs": [],
   "source": [
    "line_scan = line_scan[::-1] "
   ]
  },
  {
   "cell_type": "code",
   "execution_count": 38,
   "metadata": {
    "collapsed": false
   },
   "outputs": [],
   "source": [
    "import matplotlib.pyplot as plt\n",
    "plt.figure(figsize=(10, 6), dpi=80)\n",
    "plt.plot(x_data, line_scan)\n",
    "plt.show()"
   ]
  },
  {
   "cell_type": "markdown",
   "metadata": {},
   "source": [
    "An iterative cropping method should be applied to select only linear area of the spectrum."
   ]
  },
  {
   "cell_type": "code",
   "execution_count": 37,
   "metadata": {
    "collapsed": false
   },
   "outputs": [],
   "source": [
    "line_scan = line_scan[40:-170]\n",
    "x_data = x_data[40:-170]"
   ]
  },
  {
   "cell_type": "markdown",
   "metadata": {},
   "source": [
    "Determining the gradient measurement from the linear profile extracted from the t/lambda map."
   ]
  },
  {
   "cell_type": "code",
   "execution_count": 39,
   "metadata": {
    "collapsed": false
   },
   "outputs": [
    {
     "name": "stdout",
     "output_type": "stream",
     "text": [
      "m= 0.00482308238563\n"
     ]
    }
   ],
   "source": [
    "from scipy.optimize import curve_fit\n",
    "def func(x, m, c):\n",
    "    return m*x + c\n",
    "popt, pcov = curve_fit(func, x_data, line_scan)\n",
    "m = popt[0]\n",
    "print('m=', m)\n",
    "perr = np.sqrt(np.diag(pcov))\n",
    "m_err = perr[0] #the error in the gradient measurment due to noise."
   ]
  },
  {
   "cell_type": "code",
   "execution_count": 40,
   "metadata": {
    "collapsed": false
   },
   "outputs": [
    {
     "data": {
      "text/plain": [
       "0.0090307761745501685"
      ]
     },
     "execution_count": 40,
     "metadata": {},
     "output_type": "execute_result"
    }
   ],
   "source": [
    "m_err/m"
   ]
  },
  {
   "cell_type": "markdown",
   "metadata": {},
   "source": [
    "Determining the angle from the gradient measurement."
   ]
  },
  {
   "cell_type": "code",
   "execution_count": 41,
   "metadata": {
    "collapsed": false
   },
   "outputs": [
    {
     "data": {
      "text/plain": [
       "0.2763401222011879"
      ]
     },
     "execution_count": 41,
     "metadata": {},
     "output_type": "execute_result"
    }
   ],
   "source": [
    "import math\n",
    "theta = math.degrees(math.atan(m))\n",
    "theta"
   ]
  },
  {
   "cell_type": "markdown",
   "metadata": {},
   "source": [
    "Save the processed data cube for later."
   ]
  },
  {
   "cell_type": "code",
   "execution_count": null,
   "metadata": {
    "collapsed": false
   },
   "outputs": [],
   "source": [
    "wedge.save('Pt01EELS-processed')"
   ]
  },
  {
   "cell_type": "code",
   "execution_count": null,
   "metadata": {
    "collapsed": true
   },
   "outputs": [],
   "source": []
  }
 ],
 "metadata": {
  "anaconda-cloud": {},
  "kernelspec": {
   "display_name": "Python [conda root]",
   "language": "python",
   "name": "conda-root-py"
  },
  "language_info": {
   "codemirror_mode": {
    "name": "ipython",
    "version": 3
   },
   "file_extension": ".py",
   "mimetype": "text/x-python",
   "name": "python",
   "nbconvert_exporter": "python",
   "pygments_lexer": "ipython3",
   "version": "3.5.2"
  }
 },
 "nbformat": 4,
 "nbformat_minor": 0
}
