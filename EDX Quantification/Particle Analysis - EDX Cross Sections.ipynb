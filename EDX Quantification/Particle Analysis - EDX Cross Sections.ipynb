{
 "cells": [
  {
   "cell_type": "markdown",
   "metadata": {},
   "source": [
    "# EDX Quantification using Partial Ionization Cross Section"
   ]
  },
  {
   "cell_type": "markdown",
   "metadata": {},
   "source": [
    "This is a personal workbook used to process my own data but has been made public for the use of others. If you find any errors or need further help using this workbook please contact k8macarthur@gmail.com."
   ]
  },
  {
   "cell_type": "markdown",
   "metadata": {},
   "source": [
    "## Author"
   ]
  },
  {
   "cell_type": "markdown",
   "metadata": {},
   "source": [
    "Katherine E. MacArthur - Originally written for EMC2016, 28.08.2016"
   ]
  },
  {
   "cell_type": "markdown",
   "metadata": {},
   "source": [
    "## Requirements"
   ]
  },
  {
   "cell_type": "markdown",
   "metadata": {},
   "source": [
    "In order to use the EDX Cross Section quantification a Hyperspy version 1.1 or later is required."
   ]
  },
  {
   "cell_type": "markdown",
   "metadata": {},
   "source": [
    "## 1. Importing Hyperspy and Libraries"
   ]
  },
  {
   "cell_type": "markdown",
   "metadata": {},
   "source": [
    "Being by importing the Hyperspy Function Library."
   ]
  },
  {
   "cell_type": "code",
   "execution_count": 1,
   "metadata": {
    "collapsed": true
   },
   "outputs": [],
   "source": [
    "import matplotlib\n",
    "matplotlib.rcParams[\"backend\"] = 'Qt4Agg'\n",
    "import hyperspy.api as hs\n",
    "import numpy as np\n",
    "%matplotlib qt4"
   ]
  },
  {
   "cell_type": "markdown",
   "metadata": {},
   "source": [
    "For inline displaying of figures (optional)."
   ]
  },
  {
   "cell_type": "code",
   "execution_count": null,
   "metadata": {
    "collapsed": true
   },
   "outputs": [],
   "source": [
    "%matplotlib inline"
   ]
  },
  {
   "cell_type": "markdown",
   "metadata": {},
   "source": [
    "## 2. Importing and Calibrating the Experimental Data"
   ]
  },
  {
   "cell_type": "markdown",
   "metadata": {},
   "source": [
    "Opens a load window. Use hs.load('filename') if filename is known specifically."
   ]
  },
  {
   "cell_type": "code",
   "execution_count": 2,
   "metadata": {},
   "outputs": [
    {
     "name": "stderr",
     "output_type": "stream",
     "text": [
      "WARNING:hyperspy.io_plugins.bcf:unbcf_fast library is not present...\n",
      "Parsing BCF with Python-only backend, which is slow... please wait.\n",
      "If parsing is uncomfortably slow, first install cython, then reinstall hyperspy.\n",
      "For more information, check the 'Installing HyperSpy' section in the documentation.\n"
     ]
    },
    {
     "data": {
      "text/plain": [
       "[<Signal2D, title: HAADF, dimensions: (|300, 300)>,\n",
       " <EDSTEMSpectrum, title: EDX, dimensions: (300, 300|2048)>]"
      ]
     },
     "execution_count": 2,
     "metadata": {},
     "output_type": "execute_result"
    }
   ],
   "source": [
    "s = hs.load('EDX-Data/PtNiOctahedron.bcf')\n",
    "s"
   ]
  },
  {
   "cell_type": "markdown",
   "metadata": {},
   "source": [
    "These next two lines are needed for .bcf files from Bruker/Espirit as the imported data comes as a list containing both the ADF image and EDX spectral data cube."
   ]
  },
  {
   "cell_type": "code",
   "execution_count": 3,
   "metadata": {},
   "outputs": [
    {
     "data": {
      "text/plain": [
       "<EDSTEMSpectrum, title: EDX, dimensions: (300, 300|2048)>"
      ]
     },
     "execution_count": 3,
     "metadata": {},
     "output_type": "execute_result"
    }
   ],
   "source": [
    "image = s[0]\n",
    "s = s[1]\n",
    "s"
   ]
  },
  {
   "cell_type": "code",
   "execution_count": 4,
   "metadata": {},
   "outputs": [
    {
     "data": {
      "text/plain": [
       "├── Acquisition_instrument\n",
       "│   └── TEM\n",
       "│       ├── Detector\n",
       "│       │   └── EDS\n",
       "│       │       ├── azimuth_angle = 45.0\n",
       "│       │       ├── detector_type = SuperX\n",
       "│       │       ├── elevation_angle = 18.0\n",
       "│       │       ├── energy_resolution_MnKa = 130.0\n",
       "│       │       └── real_time = 950.496\n",
       "│       ├── Stage\n",
       "│       │   └── tilt_alpha = 0.0\n",
       "│       ├── beam_energy = 200\n",
       "│       └── magnification = 1300000\n",
       "├── General\n",
       "│   ├── date = 2016-12-09\n",
       "│   ├── original_filename = PtNiOctahedron.bcf\n",
       "│   ├── time = 19:14:12\n",
       "│   └── title = Original Data Cube\n",
       "├── Sample\n",
       "│   ├── elements = ['C', 'F', 'Ni', 'O', 'Pt']\n",
       "│   ├── name = PG_3\n",
       "│   └── xray_lines = ['C_Ka', 'F_Ka', 'Ni_Ka', 'O_Ka', 'Pt_La']\n",
       "└── Signal\n",
       "    ├── binned = True\n",
       "    ├── quantity = X-rays (Counts)\n",
       "    └── signal_type = EDS_TEM"
      ]
     },
     "execution_count": 4,
     "metadata": {},
     "output_type": "execute_result"
    }
   ],
   "source": [
    "s.set_signal_type('EDS_TEM')\n",
    "s.metadata.General.title = 'Original Data Cube'\n",
    "s.metadata"
   ]
  },
  {
   "cell_type": "markdown",
   "metadata": {},
   "source": [
    "Adjust the metadata for all the microscope parameters.\n",
    "\n",
    "In particular for quantification it is important to check the pixel size is in units of nm otherwise 'cross_section' quantification will give eroneous results."
   ]
  },
  {
   "cell_type": "code",
   "execution_count": 44,
   "metadata": {
    "collapsed": true
   },
   "outputs": [],
   "source": [
    "s.set_microscope_parameters?"
   ]
  },
  {
   "cell_type": "code",
   "execution_count": 5,
   "metadata": {
    "collapsed": true
   },
   "outputs": [],
   "source": [
    "s.set_microscope_parameters(beam_energy = 200)\n",
    "s.set_microscope_parameters(live_time = 0.003024)\n",
    "s.set_microscope_parameters(real_time = 1) \n",
    "s.set_microscope_parameters(beam_current = 0.0432) #in nA\n",
    "\n",
    "#Or open a GUI using s.set_microscope_parameters(). or hs.preferences.gui()"
   ]
  },
  {
   "cell_type": "code",
   "execution_count": 9,
   "metadata": {
    "scrolled": true
   },
   "outputs": [
    {
     "data": {
      "text/html": [
       "<style>\n",
       "table, th, td {\n",
       "\tborder: 1px solid black;\n",
       "\tborder-collapse: collapse;\n",
       "}\n",
       "th, td {\n",
       "\tpadding: 5px;\n",
       "}\n",
       "</style>\n",
       "<p><b>< Axes manager, axes: (300, 300|2048) ></b></p>\n",
       "<table style='width:100%'>\n",
       "\n",
       "<tr> \n",
       "<th>Navigation axis name</th> \n",
       "<th>size</th> \n",
       "<th>index</th> \n",
       "<th>offset</th> \n",
       "<th>scale</th> \n",
       "<th>units</th> </tr>\n",
       "<tr> \n",
       "<td>x</td> \n",
       "<td>300</td> \n",
       "<td>0</td> \n",
       "<td>0.0</td> \n",
       "<td>0.068589005620628</td> \n",
       "<td>nm</td> </tr>\n",
       "<tr> \n",
       "<td>y</td> \n",
       "<td>300</td> \n",
       "<td>0</td> \n",
       "<td>0.0</td> \n",
       "<td>0.068589005620628</td> \n",
       "<td>nm</td> </tr></table>\n",
       "<table style='width:100%'>\n",
       "\n",
       "<tr> \n",
       "<th>Signal axis name</th> \n",
       "<th>size</th> \n",
       "<th>offset</th> \n",
       "<th>scale</th> \n",
       "<th>units</th> </tr>\n",
       "<tr> \n",
       "<td>Energy</td> \n",
       "<td>2048</td> \n",
       "<td>-0.47245822</td> \n",
       "<td>0.009997</td> \n",
       "<td>keV</td> </tr></table>\n"
      ],
      "text/plain": [
       "<Axes manager, axes: (300, 300|2048)>\n",
       "            Name |   size |  index |  offset |   scale |  units \n",
       "================ | ====== | ====== | ======= | ======= | ====== \n",
       "               x |    300 |      0 |       0 |   0.069 |     nm \n",
       "               y |    300 |      0 |       0 |   0.069 |     nm \n",
       "---------------- | ------ | ------ | ------- | ------- | ------ \n",
       "          Energy |   2048 |        |   -0.47 |    0.01 |    keV "
      ]
     },
     "execution_count": 9,
     "metadata": {},
     "output_type": "execute_result"
    }
   ],
   "source": [
    "s.axes_manager[0].name = 'x'\n",
    "s.axes_manager[1].name = 'y'\n",
    "s.axes_manager"
   ]
  },
  {
   "cell_type": "markdown",
   "metadata": {},
   "source": [
    "Opens three windows to edit the scale and offset of each axis including the EDX Energy axis."
   ]
  },
  {
   "cell_type": "code",
   "execution_count": 7,
   "metadata": {},
   "outputs": [
    {
     "data": {
      "application/vnd.jupyter.widget-view+json": {
       "model_id": "b7d446a5be3b4d02b945c5dfb7ba6345"
      }
     },
     "metadata": {},
     "output_type": "display_data"
    }
   ],
   "source": [
    "s.axes_manager.gui()\n",
    "#s.get_calibration_from(s1pixel) will take all the calibration "
   ]
  },
  {
   "cell_type": "markdown",
   "metadata": {},
   "source": [
    "Again the following line  is needed for bcf to chech the ADF image details."
   ]
  },
  {
   "cell_type": "code",
   "execution_count": 8,
   "metadata": {},
   "outputs": [
    {
     "data": {
      "application/vnd.jupyter.widget-view+json": {
       "model_id": "d76cdbf0129b4a8ebfebaf711b895add"
      }
     },
     "metadata": {},
     "output_type": "display_data"
    }
   ],
   "source": [
    "image.axes_manager.gui()"
   ]
  },
  {
   "cell_type": "markdown",
   "metadata": {},
   "source": [
    "Plotting both the image and the spectrum to see that they are imported correctly."
   ]
  },
  {
   "cell_type": "code",
   "execution_count": null,
   "metadata": {
    "collapsed": true
   },
   "outputs": [],
   "source": [
    "s = s.isig[75:]\n",
    "s.plot()\n",
    "image.plot()"
   ]
  },
  {
   "cell_type": "markdown",
   "metadata": {},
   "source": [
    "Setting the elements to be used for quantification. Make sure that these match those used for calibration samples."
   ]
  },
  {
   "cell_type": "code",
   "execution_count": 21,
   "metadata": {},
   "outputs": [
    {
     "data": {
      "text/plain": [
       "├── elements = ['Ni', 'Pt']\n",
       "├── name = PG_3\n",
       "└── xray_lines = ['Ni_Ka', 'Pt_La']"
      ]
     },
     "execution_count": 21,
     "metadata": {},
     "output_type": "execute_result"
    }
   ],
   "source": [
    "s.set_elements(['Pt','Ni'])\n",
    "s.set_lines(['Pt_La', 'Ni_Ka'])\n",
    "s.metadata.Sample"
   ]
  },
  {
   "cell_type": "markdown",
   "metadata": {
    "collapsed": true
   },
   "source": [
    "## 3. Importing the Cross Sections Library and Checking Backround and Integration Windows"
   ]
  },
  {
   "cell_type": "markdown",
   "metadata": {},
   "source": [
    "Import the calibration files of EDX cross sections for the correct microscope.\n",
    "\n",
    "More details on how to make these files are inluded in the workbook entitled: 'Wedge Analysis - EDX Cross Sections .ipynb'."
   ]
  },
  {
   "cell_type": "code",
   "execution_count": 10,
   "metadata": {
    "collapsed": true
   },
   "outputs": [],
   "source": [
    "cal = hs.load('EDX-Data/ChemiSTEMCal_16AUG17.hspy')\n",
    "calibration = cal.metadata.calibration"
   ]
  },
  {
   "cell_type": "markdown",
   "metadata": {},
   "source": [
    "Check which elements are included within the calbration file."
   ]
  },
  {
   "cell_type": "code",
   "execution_count": 11,
   "metadata": {},
   "outputs": [
    {
     "data": {
      "text/plain": [
       "['Co', 'Ni', 'Pd', 'Pt']"
      ]
     },
     "execution_count": 11,
     "metadata": {},
     "output_type": "execute_result"
    }
   ],
   "source": [
    "calibration.keys()"
   ]
  },
  {
   "cell_type": "markdown",
   "metadata": {},
   "source": [
    "Extract the calibration information for each element, required for quantification."
   ]
  },
  {
   "cell_type": "code",
   "execution_count": 12,
   "metadata": {},
   "outputs": [
    {
     "data": {
      "text/plain": [
       "├── Background windows = array([[ 6.61175942,  6.75614952,  7.76688019,  7.86688019]])\n",
       "├── Integration windows = [[7.189319806773387, 7.766880193226614]]\n",
       "├── cross_section = 11.057032106497036\n",
       "└── lines = ['Ni_Ka']"
      ]
     },
     "execution_count": 12,
     "metadata": {},
     "output_type": "execute_result"
    }
   ],
   "source": [
    "cal_Ni = calibration['Ni']\n",
    "cal_Pt = calibration['Pt']\n",
    "cal_Ni"
   ]
  },
  {
   "cell_type": "markdown",
   "metadata": {},
   "source": [
    "Create the integration windows, background windows and cross section list in a format which the intensity extraction function can use."
   ]
  },
  {
   "cell_type": "code",
   "execution_count": 13,
   "metadata": {},
   "outputs": [
    {
     "data": {
      "text/plain": [
       "[[7.189319806773387, 7.766880193226614],\n",
       " [9.201358177708983, 9.682841822291017]]"
      ]
     },
     "execution_count": 13,
     "metadata": {},
     "output_type": "execute_result"
    }
   ],
   "source": [
    "iw = cal_Ni['Integration windows'] + cal_Pt['Integration windows']\n",
    "iw"
   ]
  },
  {
   "cell_type": "code",
   "execution_count": 15,
   "metadata": {},
   "outputs": [
    {
     "data": {
      "text/plain": [
       "array([[  6.61175942,   6.75614952,   7.76688019,   7.86688019],\n",
       "       [  8.47913271,   8.63962726,  10.2       ,  10.3       ]])"
      ]
     },
     "execution_count": 15,
     "metadata": {},
     "output_type": "execute_result"
    }
   ],
   "source": [
    "bw = np.append(cal_Ni['Background windows'], \n",
    "               cal_Pt['Background windows'],\n",
    "              axis=0)\n",
    "bw"
   ]
  },
  {
   "cell_type": "code",
   "execution_count": 30,
   "metadata": {},
   "outputs": [
    {
     "data": {
      "text/plain": [
       "(11.057032106497036, 12.823935650563929)"
      ]
     },
     "execution_count": 30,
     "metadata": {},
     "output_type": "execute_result"
    }
   ],
   "source": [
    "cs = cal_Ni['cross_section'],cal_Pt['cross_section']\n",
    "cs"
   ]
  },
  {
   "cell_type": "markdown",
   "metadata": {},
   "source": [
    "Check that the background windows and integration windows still work on the experimental data. As the calibration samples are single element, they may have selected windows which overlap with other elemental peaks which are in the final experimental data. \n",
    "\n",
    "*If you do need to change bw and iw here, it is advised to repeat the wedge calibration workbook so that both sets of integration windows match completely. Background windows are less critical but integration windows should be kept the same between calibration and experiment.*"
   ]
  },
  {
   "cell_type": "code",
   "execution_count": null,
   "metadata": {
    "collapsed": true,
    "scrolled": true
   },
   "outputs": [],
   "source": [
    "bw = s.estimate_background_windows(line_width=[5.0, 2.0])\n",
    "iw =  s.estimate_integration_windows(windows_width=4)\n",
    "print(bw)\n",
    "print(iw)"
   ]
  },
  {
   "cell_type": "code",
   "execution_count": 18,
   "metadata": {},
   "outputs": [
    {
     "name": "stderr",
     "output_type": "stream",
     "text": [
      "WARNING:hyperspy.drawing.figure:Please report this warning to the developers: `_draw_animated` was called before `draw`.\n",
      "WARNING:hyperspy.drawing.figure:Please report this warning to the developers: `_draw_animated` was called before `draw`.\n",
      "WARNING:hyperspy.drawing.figure:Please report this warning to the developers: `_draw_animated` was called before `draw`.\n",
      "WARNING:hyperspy.drawing.figure:Please report this warning to the developers: `_draw_animated` was called before `draw`.\n",
      "WARNING:hyperspy.drawing.figure:Please report this warning to the developers: `_draw_animated` was called before `draw`.\n",
      "WARNING:hyperspy.drawing.figure:Please report this warning to the developers: `_draw_animated` was called before `draw`.\n",
      "WARNING:hyperspy.drawing.figure:Please report this warning to the developers: `_draw_animated` was called before `draw`.\n",
      "WARNING:hyperspy.drawing.figure:Please report this warning to the developers: `_draw_animated` was called before `draw`.\n",
      "WARNING:hyperspy.drawing.figure:Please report this warning to the developers: `_draw_animated` was called before `draw`.\n",
      "WARNING:hyperspy.drawing.figure:Please report this warning to the developers: `_draw_animated` was called before `draw`.\n",
      "WARNING:hyperspy.drawing.figure:Please report this warning to the developers: `_draw_animated` was called before `draw`.\n",
      "WARNING:hyperspy.drawing.figure:Please report this warning to the developers: `_draw_animated` was called before `draw`.\n",
      "WARNING:hyperspy.drawing.figure:Please report this warning to the developers: `_draw_animated` was called before `draw`.\n",
      "WARNING:hyperspy.drawing.figure:Please report this warning to the developers: `_draw_animated` was called before `draw`.\n",
      "WARNING:hyperspy.drawing.figure:Please report this warning to the developers: `_draw_animated` was called before `draw`.\n",
      "WARNING:hyperspy.drawing.figure:Please report this warning to the developers: `_draw_animated` was called before `draw`.\n",
      "WARNING:hyperspy.drawing.figure:Please report this warning to the developers: `_draw_animated` was called before `draw`.\n",
      "WARNING:hyperspy.drawing.figure:Please report this warning to the developers: `_draw_animated` was called before `draw`.\n",
      "WARNING:hyperspy.drawing.figure:Please report this warning to the developers: `_draw_animated` was called before `draw`.\n",
      "WARNING:hyperspy.drawing.figure:Please report this warning to the developers: `_draw_animated` was called before `draw`.\n",
      "WARNING:hyperspy.drawing.figure:Please report this warning to the developers: `_draw_animated` was called before `draw`.\n",
      "WARNING:hyperspy.drawing.figure:Please report this warning to the developers: `_draw_animated` was called before `draw`.\n",
      "WARNING:hyperspy.drawing.figure:Please report this warning to the developers: `_draw_animated` was called before `draw`.\n",
      "WARNING:hyperspy.drawing.figure:Please report this warning to the developers: `_draw_animated` was called before `draw`.\n"
     ]
    }
   ],
   "source": [
    "s.sum().plot(True, background_windows=bw, integration_windows=iw)"
   ]
  },
  {
   "cell_type": "code",
   "execution_count": null,
   "metadata": {
    "collapsed": true
   },
   "outputs": [],
   "source": [
    "s.sum().plot(True, background_windows=bw, integration_windows=iw)"
   ]
  },
  {
   "cell_type": "markdown",
   "metadata": {},
   "source": [
    "## 4. Quantifying the Experimental Data, using s.quantification()"
   ]
  },
  {
   "cell_type": "markdown",
   "metadata": {},
   "source": [
    "If the spectrum requires binnning, it is better to do this now before extracting the intensities.\n",
    "\n",
    "I normally use the non-integer binning method with linearly interpolates between pixels, and allows conversion of pixel size to any size in the range. The most realistic approach is to fit the pixel size such that one pixel is ~1 atomic column."
   ]
  },
  {
   "cell_type": "markdown",
   "metadata": {},
   "source": [
    "Begin by setting the scale function for each dimension in the spectrum data. A bin scale of 1 is required for any dimensions where no binning is wanted. "
   ]
  },
  {
   "cell_type": "code",
   "execution_count": 6,
   "metadata": {
    "collapsed": true
   },
   "outputs": [],
   "source": [
    "scale = [9.583, 9.583, 1]"
   ]
  },
  {
   "cell_type": "code",
   "execution_count": 7,
   "metadata": {
    "collapsed": true
   },
   "outputs": [],
   "source": [
    "s = s.rebin(scale=scale)"
   ]
  },
  {
   "cell_type": "code",
   "execution_count": 8,
   "metadata": {},
   "outputs": [
    {
     "name": "stderr",
     "output_type": "stream",
     "text": [
      "WARNING:hyperspy.signal:<Signal2D, title: EDX, dimensions: (|31, 31)> data is replaced by its optimized copy , see optimize parameter of ``Basesignal.transpose`` for more information.\n"
     ]
    }
   ],
   "source": [
    "s.plot()"
   ]
  },
  {
   "cell_type": "code",
   "execution_count": 23,
   "metadata": {
    "collapsed": true
   },
   "outputs": [],
   "source": [
    "s.change_dtype('float')\n",
    "inten = s.get_lines_intensity(background_windows=bw, integration_windows=iw)"
   ]
  },
  {
   "cell_type": "code",
   "execution_count": 31,
   "metadata": {},
   "outputs": [
    {
     "name": "stderr",
     "output_type": "stream",
     "text": [
      "c:\\users\\macark\\documents\\github\\hyperspy\\hyperspy\\misc\\material.py:42: RuntimeWarning: invalid value encountered in true_divide\n",
      "  atomic_percent[i] /= sum_weight\n"
     ]
    }
   ],
   "source": [
    "p = s.quantification(inten, 'CL', cs)"
   ]
  },
  {
   "cell_type": "code",
   "execution_count": 39,
   "metadata": {
    "scrolled": true
   },
   "outputs": [
    {
     "name": "stderr",
     "output_type": "stream",
     "text": [
      "c:\\users\\macark\\documents\\github\\hyperspy\\hyperspy\\misc\\eds\\utils.py:528: RuntimeWarning: invalid value encountered in true_divide\n",
      "  composition = number_of_atoms / total_atoms\n"
     ]
    },
    {
     "data": {
      "text/plain": [
       "([<BaseSignal, title: atomic percent of Ni, dimensions: (31, 31|)>,\n",
       "  <BaseSignal, title: atomic percent of Pt, dimensions: (31, 31|)>],\n",
       " [<BaseSignal, title: atom counts of Ni, dimensions: (31, 31|)>,\n",
       "  <BaseSignal, title: atom counts of Pt, dimensions: (31, 31|)>])"
      ]
     },
     "execution_count": 39,
     "metadata": {},
     "output_type": "execute_result"
    }
   ],
   "source": [
    "p = s.quantification(inten, 'cross_section', cs)\n",
    "p"
   ]
  },
  {
   "cell_type": "markdown",
   "metadata": {},
   "source": [
    "Subsequent processing and image plotting and of the resulting data. *To be completed in the future.* \n",
    "\n",
    "NB: Anything below this point is still work in progress."
   ]
  },
  {
   "cell_type": "code",
   "execution_count": 40,
   "metadata": {},
   "outputs": [
    {
     "data": {
      "text/plain": [
       "([<BaseSignal, title: atomic percent of Ni, dimensions: (31, 31|)>,\n",
       "  <BaseSignal, title: atomic percent of Pt, dimensions: (31, 31|)>],\n",
       " [<BaseSignal, title: atom counts of Ni, dimensions: (31, 31|)>,\n",
       "  <BaseSignal, title: atom counts of Pt, dimensions: (31, 31|)>])"
      ]
     },
     "execution_count": 40,
     "metadata": {},
     "output_type": "execute_result"
    }
   ],
   "source": [
    "p"
   ]
  },
  {
   "cell_type": "code",
   "execution_count": null,
   "metadata": {
    "collapsed": true
   },
   "outputs": [],
   "source": [
    "p[0][0].plot()\n",
    "p[0][1].plot()"
   ]
  },
  {
   "cell_type": "code",
   "execution_count": null,
   "metadata": {
    "collapsed": true
   },
   "outputs": [],
   "source": [
    "Total = p[1][0] + p[1][1]"
   ]
  },
  {
   "cell_type": "code",
   "execution_count": null,
   "metadata": {
    "collapsed": true
   },
   "outputs": [],
   "source": [
    "Total.plot()"
   ]
  },
  {
   "cell_type": "code",
   "execution_count": null,
   "metadata": {
    "collapsed": true
   },
   "outputs": [],
   "source": [
    "mask = Total >= 0.3\n",
    "\n",
    "mask.plot()"
   ]
  },
  {
   "cell_type": "code",
   "execution_count": null,
   "metadata": {
    "collapsed": true
   },
   "outputs": [],
   "source": [
    "Total = Total * mask\n",
    "Total.plot()"
   ]
  },
  {
   "cell_type": "code",
   "execution_count": null,
   "metadata": {
    "collapsed": true
   },
   "outputs": [],
   "source": [
    "NumPd = p[1][0]*mask\n",
    "NumPt = p[1][1]*mask"
   ]
  },
  {
   "cell_type": "code",
   "execution_count": null,
   "metadata": {
    "collapsed": true
   },
   "outputs": [],
   "source": [
    "NumPd = NumPd.as_signal2D((0,1))\n",
    "NumPt = NumPt.as_signal2D((0,1))"
   ]
  },
  {
   "cell_type": "code",
   "execution_count": null,
   "metadata": {
    "collapsed": true
   },
   "outputs": [],
   "source": [
    "hs.plot.plot_images([NumPd, NumPt], scalebar ='all', cmap='viridis', colorbar ='single',\n",
    "                   label=['Ni', 'Pt'], axes_decor='off', tight_layout=True, vmin=0)"
   ]
  },
  {
   "cell_type": "code",
   "execution_count": null,
   "metadata": {
    "collapsed": true
   },
   "outputs": [],
   "source": [
    "FractNi = (p[1][0]/Total).as_signal2D((0,1))\n",
    "FractPt = (p[1][1]/Total).as_signal2D((0,1))"
   ]
  },
  {
   "cell_type": "code",
   "execution_count": null,
   "metadata": {
    "collapsed": true
   },
   "outputs": [],
   "source": [
    "hs.plot.plot_images([FractNi, FractPt], scalebar ='all', cmap='viridis', colorbar ='single',\n",
    "                    centre_colormap=False, tight_layout=True, \n",
    "                    label=['Fractional Map Ni', 'Fractional Map Pt'], \n",
    "                    axes_decor='off', vmin=0, vmax=1)"
   ]
  },
  {
   "cell_type": "code",
   "execution_count": null,
   "metadata": {
    "collapsed": true
   },
   "outputs": [],
   "source": []
  }
 ],
 "metadata": {
  "anaconda-cloud": {},
  "kernelspec": {
   "display_name": "Python [conda root]",
   "language": "python",
   "name": "conda-root-py"
  },
  "language_info": {
   "codemirror_mode": {
    "name": "ipython",
    "version": 3
   },
   "file_extension": ".py",
   "mimetype": "text/x-python",
   "name": "python",
   "nbconvert_exporter": "python",
   "pygments_lexer": "ipython3",
   "version": "3.5.2"
  }
 },
 "nbformat": 4,
 "nbformat_minor": 1
}
