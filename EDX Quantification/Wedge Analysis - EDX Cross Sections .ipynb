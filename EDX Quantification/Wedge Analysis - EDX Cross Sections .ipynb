{
 "cells": [
  {
   "cell_type": "markdown",
   "metadata": {},
   "source": [
    "# Determining Partial EDX Ionization Cross Sections from a FIB Wedge of Known Angle"
   ]
  },
  {
   "cell_type": "markdown",
   "metadata": {},
   "source": [
    "This is a personal workbook used to process my own data but has been made public for the use of others. If you find any errors or need further help using this workbook please contact k8macarthur@gmail.com."
   ]
  },
  {
   "cell_type": "markdown",
   "metadata": {},
   "source": [
    "## Author"
   ]
  },
  {
   "cell_type": "markdown",
   "metadata": {},
   "source": [
    "Katherine E. MacArthur - Originally written for EMC2016, 28.08.2016"
   ]
  },
  {
   "cell_type": "markdown",
   "metadata": {},
   "source": [
    "## Requirements\n",
    "\n",
    "This code was written to work Hyperspy version 1.1 or later."
   ]
  },
  {
   "cell_type": "markdown",
   "metadata": {},
   "source": [
    "## 1. Importing Hyperspy and Libraries"
   ]
  },
  {
   "cell_type": "markdown",
   "metadata": {},
   "source": [
    "Begin by importing the Hyperspy Function Library."
   ]
  },
  {
   "cell_type": "code",
   "execution_count": 25,
   "metadata": {},
   "outputs": [
    {
     "name": "stdout",
     "output_type": "stream",
     "text": [
      "Warning: Cannot change to a different GUI toolkit: nbagg. Using qt4 instead.\n"
     ]
    }
   ],
   "source": [
    "import matplotlib\n",
    "%matplotlib nbagg\n",
    "import hyperspy.api as hs\n",
    "import numpy as np"
   ]
  },
  {
   "cell_type": "markdown",
   "metadata": {},
   "source": [
    "For inline displaying of figures (optional)."
   ]
  },
  {
   "cell_type": "code",
   "execution_count": 2,
   "metadata": {
    "collapsed": true
   },
   "outputs": [],
   "source": [
    "%matplotlib inline"
   ]
  },
  {
   "cell_type": "markdown",
   "metadata": {},
   "source": [
    "## 2. Importing the Wedge EDX Map for Element 1 (Pt in this Example)"
   ]
  },
  {
   "cell_type": "markdown",
   "metadata": {},
   "source": [
    "Opens a load window. Use hs.load('filename') if filename is known specifically."
   ]
  },
  {
   "cell_type": "code",
   "execution_count": 27,
   "metadata": {},
   "outputs": [
    {
     "name": "stderr",
     "output_type": "stream",
     "text": [
      "c:\\users\\macark\\documents\\github\\hyperspy\\hyperspy\\io_plugins\\bcf.py:829: RuntimeWarning: overflow encountered in long_scalars\n",
      "  real_time = line_cnt_sum * line_avg * pix_avg * pix_time * width / 1000000.0\n"
     ]
    }
   ],
   "source": [
    "Pt_wedge = hs.load('EDX-Data/Pt-EDX04.bcf')"
   ]
  },
  {
   "cell_type": "markdown",
   "metadata": {},
   "source": [
    "These next two lines are needed for .bcf files from Bruker/Espirit as the imported data comes as a list containing both the ADF image and EDX spectral data cube."
   ]
  },
  {
   "cell_type": "code",
   "execution_count": 28,
   "metadata": {
    "collapsed": true
   },
   "outputs": [],
   "source": [
    "Pt_wedge_image = Pt_wedge[0]\n",
    "Pt_wedge = Pt_wedge[1]"
   ]
  },
  {
   "cell_type": "code",
   "execution_count": 29,
   "metadata": {
    "collapsed": true
   },
   "outputs": [],
   "source": [
    "Pt_wedge.set_signal_type('EDS_TEM')\n",
    "Pt_wedge.metadata.General.title = 'Original Data Wedge'"
   ]
  },
  {
   "cell_type": "markdown",
   "metadata": {},
   "source": [
    "Check that the wedge has sensible dimensions and shape, \n",
    "that the labelling has been done correctly."
   ]
  },
  {
   "cell_type": "code",
   "execution_count": 30,
   "metadata": {},
   "outputs": [
    {
     "data": {
      "text/plain": [
       "<EDSTEMSpectrum, title: Original Data Wedge, dimensions: (1024, 1024|4096)>"
      ]
     },
     "execution_count": 30,
     "metadata": {},
     "output_type": "execute_result"
    }
   ],
   "source": [
    "Pt_wedge"
   ]
  },
  {
   "cell_type": "markdown",
   "metadata": {},
   "source": [
    "Adjust the metadata for all the microscope parameters."
   ]
  },
  {
   "cell_type": "code",
   "execution_count": 31,
   "metadata": {},
   "outputs": [
    {
     "data": {
      "text/html": [
       "<style>\n",
       "table, th, td {\n",
       "\tborder: 1px solid black;\n",
       "\tborder-collapse: collapse;\n",
       "}\n",
       "th, td {\n",
       "\tpadding: 5px;\n",
       "}\n",
       "</style>\n",
       "<p><b>< Axes manager, axes: (1024, 1024|4096) ></b></p>\n",
       "<table style='width:100%'>\n",
       "\n",
       "<tr> \n",
       "<th>Navigation axis name</th> \n",
       "<th>size</th> \n",
       "<th>index</th> \n",
       "<th>offset</th> \n",
       "<th>scale</th> \n",
       "<th>units</th> </tr>\n",
       "<tr> \n",
       "<td>x</td> \n",
       "<td>1024</td> \n",
       "<td>0</td> \n",
       "<td>0.0</td> \n",
       "<td>0.0124282743823366</td> \n",
       "<td>µm</td> </tr>\n",
       "<tr> \n",
       "<td>y</td> \n",
       "<td>1024</td> \n",
       "<td>0</td> \n",
       "<td>0.0</td> \n",
       "<td>0.0124282743823366</td> \n",
       "<td>µm</td> </tr></table>\n",
       "<table style='width:100%'>\n",
       "\n",
       "<tr> \n",
       "<th>Signal axis name</th> \n",
       "<th>size</th> \n",
       "<th>offset</th> \n",
       "<th>scale</th> \n",
       "<th>units</th> </tr>\n",
       "<tr> \n",
       "<td>Energy</td> \n",
       "<td>4096</td> \n",
       "<td>-0.95060984</td> \n",
       "<td>0.009998</td> \n",
       "<td>keV</td> </tr></table>\n"
      ],
      "text/plain": [
       "<Axes manager, axes: (1024, 1024|4096)>\n",
       "            Name |   size |  index |  offset |   scale |  units \n",
       "================ | ====== | ====== | ======= | ======= | ====== \n",
       "               x |   1024 |      0 |       0 |   0.012 |     µm \n",
       "               y |   1024 |      0 |       0 |   0.012 |     µm \n",
       "---------------- | ------ | ------ | ------- | ------- | ------ \n",
       "          Energy |   4096 |        |   -0.95 |    0.01 |    keV "
      ]
     },
     "execution_count": 31,
     "metadata": {},
     "output_type": "execute_result"
    }
   ],
   "source": [
    "Pt_wedge.axes_manager[0].name = 'x'\n",
    "Pt_wedge.axes_manager[1].name = 'y'\n",
    "Pt_wedge.axes_manager"
   ]
  },
  {
   "cell_type": "markdown",
   "metadata": {},
   "source": [
    "The axes_manager.gui() can be used to set all the axis properties. The scale of the navigational axis should be in nm for the later processing."
   ]
  },
  {
   "cell_type": "code",
   "execution_count": 33,
   "metadata": {},
   "outputs": [
    {
     "data": {
      "application/vnd.jupyter.widget-view+json": {
       "model_id": "d5ed7bb8dc164dca98db2bf3f23475cb"
      }
     },
     "metadata": {},
     "output_type": "display_data"
    }
   ],
   "source": [
    "Pt_wedge.axes_manager.gui()"
   ]
  },
  {
   "cell_type": "markdown",
   "metadata": {},
   "source": [
    "The next two lines can be used if the data needs cropping before further analyis. \n",
    "\n",
    "Data is cropped based on the pixel number ranges used. The crop range can be plotted first, before cropping."
   ]
  },
  {
   "cell_type": "code",
   "execution_count": 39,
   "metadata": {},
   "outputs": [
    {
     "name": "stderr",
     "output_type": "stream",
     "text": [
      "c:\\program files\\anaconda3\\lib\\site-packages\\matplotlib\\axes\\_base.py:3193: UserWarning: Attempting to set identical bottom==top results\n",
      "in singular transformations; automatically expanding.\n",
      "bottom=0, top=0\n",
      "  'bottom=%s, top=%s') % (bottom, top))\n"
     ]
    }
   ],
   "source": [
    "Pt_wedge.inav[0:1024, 278:342].plot()"
   ]
  },
  {
   "cell_type": "markdown",
   "metadata": {},
   "source": [
    "Cropping is performed and then the new data replotted."
   ]
  },
  {
   "cell_type": "code",
   "execution_count": 40,
   "metadata": {},
   "outputs": [],
   "source": [
    "Pt_wedge0 = Pt_wedge\n",
    "Pt_wedge = Pt_wedge.inav[0:1024, 278:342]\n",
    "Pt_wedge.plot()"
   ]
  },
  {
   "cell_type": "code",
   "execution_count": 41,
   "metadata": {},
   "outputs": [
    {
     "data": {
      "text/plain": [
       "├── Acquisition_instrument\n",
       "│   └── TEM\n",
       "│       ├── Detector\n",
       "│       │   └── EDS\n",
       "│       │       ├── azimuth_angle = 45.0\n",
       "│       │       ├── detector_type = SuperX\n",
       "│       │       ├── elevation_angle = 18.0\n",
       "│       │       ├── energy_resolution_MnKa = 130.0\n",
       "│       │       └── real_time = -1345.709056\n",
       "│       ├── Stage\n",
       "│       │   └── tilt_alpha = 0.0\n",
       "│       ├── beam_energy = 200\n",
       "│       └── magnification = 7100\n",
       "├── General\n",
       "│   ├── date = 2017-07-13\n",
       "│   ├── original_filename = Pt-EDX04.bcf\n",
       "│   ├── time = 11:18:16\n",
       "│   └── title = Original Data Wedge\n",
       "├── Sample\n",
       "│   ├── elements = ['Cu', 'Ga', 'Mo', 'Pt']\n",
       "│   ├── name = Undefinded\n",
       "│   └── xray_lines = ['Cu_Ka', 'Ga_Ka', 'Mo_Ka', 'Pt_La']\n",
       "└── Signal\n",
       "    ├── binned = True\n",
       "    ├── quantity = X-rays (Counts)\n",
       "    └── signal_type = EDS_TEM"
      ]
     },
     "execution_count": 41,
     "metadata": {},
     "output_type": "execute_result"
    }
   ],
   "source": [
    "Pt_wedge.metadata"
   ]
  },
  {
   "cell_type": "markdown",
   "metadata": {},
   "source": [
    "Adjust all the metadata for the microscope parameters.\n",
    "\n",
    "(Live_time is not needed for quantification but currently prevents the code from running further if not set.)"
   ]
  },
  {
   "cell_type": "code",
   "execution_count": 42,
   "metadata": {},
   "outputs": [
    {
     "data": {
      "application/vnd.jupyter.widget-view+json": {
       "model_id": "535cc246e75c424eb02a9dccc93a5f08"
      }
     },
     "metadata": {},
     "output_type": "display_data"
    }
   ],
   "source": [
    "#Pt_wedge.set_microscope_parameters(beam_energy = 200)\n",
    "Pt_wedge.set_microscope_parameters(live_time = 0.002696) #dwell time per pixel\n",
    "Pt_wedge.set_microscope_parameters(beam_current = 0.039) #in nA"
   ]
  },
  {
   "cell_type": "markdown",
   "metadata": {},
   "source": [
    "Adjust the metadata for all the sample parameters."
   ]
  },
  {
   "cell_type": "code",
   "execution_count": 43,
   "metadata": {},
   "outputs": [],
   "source": [
    "Pt_wedge.set_elements(['Pt'])\n",
    "Pt_wedge.set_lines(['Pt_La'])"
   ]
  },
  {
   "cell_type": "markdown",
   "metadata": {},
   "source": [
    "Finally look at the original raw data in plot mode."
   ]
  },
  {
   "cell_type": "code",
   "execution_count": 44,
   "metadata": {},
   "outputs": [
    {
     "name": "stderr",
     "output_type": "stream",
     "text": [
      "WARNING:hyperspy.drawing.figure:Please report this warning to the developers: `_draw_animated` was called before `draw`.\n",
      "WARNING:hyperspy.drawing.figure:Please report this warning to the developers: `_draw_animated` was called before `draw`.\n"
     ]
    }
   ],
   "source": [
    "Pt_wedge.plot(True)"
   ]
  },
  {
   "cell_type": "markdown",
   "metadata": {},
   "source": [
    "Save the data, with all the added metadata, for repeat processing if necessary."
   ]
  },
  {
   "cell_type": "code",
   "execution_count": 45,
   "metadata": {},
   "outputs": [],
   "source": [
    "Pt_wedge.save('Pt01EDX-processed')"
   ]
  },
  {
   "cell_type": "markdown",
   "metadata": {},
   "source": [
    "## 3. Extracting the intensity map for wedge 1"
   ]
  },
  {
   "cell_type": "markdown",
   "metadata": {},
   "source": [
    "Define the background subtraction windows:\n",
    "\n",
    "*These can be edited or modified manually as necessary depending on what they look like.*"
   ]
  },
  {
   "cell_type": "code",
   "execution_count": 46,
   "metadata": {},
   "outputs": [
    {
     "data": {
      "text/plain": [
       "array([[ 8.47913271,  8.63962726,  9.7630891 ,  9.92358364]])"
      ]
     },
     "execution_count": 46,
     "metadata": {},
     "output_type": "execute_result"
    }
   ],
   "source": [
    "Pt_wedge.add_lines()\n",
    "bw_Pt = Pt_wedge.estimate_background_windows(line_width=[5.0, 2.0])\n",
    "bw_Pt"
   ]
  },
  {
   "cell_type": "markdown",
   "metadata": {},
   "source": [
    "Define the integration windows:\n",
    "\n",
    "*The automatic integration window is 2xFWHM. However this might vary depending on counts. For accurate quantification we want to integrate over the same absolute windows so we need to define them for exact use later on. Using FWHM is a reasable first measure approach for this.*"
   ]
  },
  {
   "cell_type": "code",
   "execution_count": 47,
   "metadata": {},
   "outputs": [
    {
     "data": {
      "text/plain": [
       "[[9.281605451805987, 9.65]]"
      ]
     },
     "execution_count": 47,
     "metadata": {},
     "output_type": "execute_result"
    }
   ],
   "source": [
    "iw_Pt =  Pt_wedge.estimate_integration_windows(windows_width=2)\n",
    "iw_Pt[0][1] = 9.65\n",
    "iw_Pt"
   ]
  },
  {
   "cell_type": "markdown",
   "metadata": {},
   "source": [
    "Plot the sum spectrum with all the background windows to check that nothing overlaps detrimentally. \n",
    "\n",
    "*The integration windows should only contain the individual element peak in question otherwise some form of deconvolution method may be required for integration. The background windows should overlap with no peaks.*"
   ]
  },
  {
   "cell_type": "code",
   "execution_count": 48,
   "metadata": {},
   "outputs": [
    {
     "name": "stderr",
     "output_type": "stream",
     "text": [
      "WARNING:hyperspy.drawing.figure:Please report this warning to the developers: `_draw_animated` was called before `draw`.\n",
      "WARNING:hyperspy.drawing.figure:Please report this warning to the developers: `_draw_animated` was called before `draw`.\n",
      "WARNING:hyperspy.drawing.figure:Please report this warning to the developers: `_draw_animated` was called before `draw`.\n",
      "WARNING:hyperspy.drawing.figure:Please report this warning to the developers: `_draw_animated` was called before `draw`.\n",
      "WARNING:hyperspy.drawing.figure:Please report this warning to the developers: `_draw_animated` was called before `draw`.\n",
      "WARNING:hyperspy.drawing.figure:Please report this warning to the developers: `_draw_animated` was called before `draw`.\n",
      "WARNING:hyperspy.drawing.figure:Please report this warning to the developers: `_draw_animated` was called before `draw`.\n",
      "WARNING:hyperspy.drawing.figure:Please report this warning to the developers: `_draw_animated` was called before `draw`.\n",
      "WARNING:hyperspy.drawing.figure:Please report this warning to the developers: `_draw_animated` was called before `draw`.\n"
     ]
    }
   ],
   "source": [
    "Pt_wedge.sum().plot(True, background_windows=bw_Pt, integration_windows=iw_Pt)"
   ]
  },
  {
   "cell_type": "markdown",
   "metadata": {},
   "source": [
    "Now extract the intensity map from your spectrum image."
   ]
  },
  {
   "cell_type": "code",
   "execution_count": 49,
   "metadata": {},
   "outputs": [
    {
     "data": {
      "text/plain": [
       "[<BaseSignal, title: X-ray line intensity of Original Data Wedge: Pt_La at 9.44 keV, dimensions: (1024, 64|)>]"
      ]
     },
     "execution_count": 49,
     "metadata": {},
     "output_type": "execute_result"
    }
   ],
   "source": [
    "inten_Pt = Pt_wedge.get_lines_intensity(integration_windows=iw_Pt, background_windows=bw_Pt)\n",
    "inten_Pt[0].plot()\n",
    "inten_Pt"
   ]
  },
  {
   "cell_type": "markdown",
   "metadata": {},
   "source": [
    "This final line is needed when combining multiple x-ray lines for each element."
   ]
  },
  {
   "cell_type": "markdown",
   "metadata": {},
   "source": [
    "## 4. Repeat Steps 2 & 3 for Wedge 2 (Ni in this example)"
   ]
  },
  {
   "cell_type": "code",
   "execution_count": 68,
   "metadata": {},
   "outputs": [
    {
     "name": "stderr",
     "output_type": "stream",
     "text": [
      "c:\\users\\macark\\documents\\github\\hyperspy\\hyperspy\\io_plugins\\bcf.py:829: RuntimeWarning: overflow encountered in long_scalars\n",
      "  real_time = line_cnt_sum * line_avg * pix_avg * pix_time * width / 1000000.0\n"
     ]
    },
    {
     "data": {
      "text/plain": [
       "<EDSTEMSpectrum, title: Original Data Wedge, dimensions: (1024, 1024|4096)>"
      ]
     },
     "execution_count": 68,
     "metadata": {},
     "output_type": "execute_result"
    }
   ],
   "source": [
    "Ni_wedge = hs.load('EDX-Data/Ni-EDX04.bcf')\n",
    "#Separate out the image and spectrum image from .bcl files.\n",
    "Ni_wedge_image = Ni_wedge[0]\n",
    "Ni_wedge = Ni_wedge[1]\n",
    "\n",
    "Ni_wedge.set_signal_type('EDS_TEM')\n",
    "Ni_wedge.metadata.General.title = 'Original Data Wedge'\n",
    "\n",
    "Ni_wedge"
   ]
  },
  {
   "cell_type": "code",
   "execution_count": 57,
   "metadata": {},
   "outputs": [
    {
     "data": {
      "text/html": [
       "<style>\n",
       "table, th, td {\n",
       "\tborder: 1px solid black;\n",
       "\tborder-collapse: collapse;\n",
       "}\n",
       "th, td {\n",
       "\tpadding: 5px;\n",
       "}\n",
       "</style>\n",
       "<p><b>< Axes manager, axes: (1024, 1024|4096) ></b></p>\n",
       "<table style='width:100%'>\n",
       "\n",
       "<tr> \n",
       "<th>Navigation axis name</th> \n",
       "<th>size</th> \n",
       "<th>index</th> \n",
       "<th>offset</th> \n",
       "<th>scale</th> \n",
       "<th>units</th> </tr>\n",
       "<tr> \n",
       "<td>width</td> \n",
       "<td>1024</td> \n",
       "<td>0</td> \n",
       "<td>0.0</td> \n",
       "<td>12.4282743823366</td> \n",
       "<td>nm</td> </tr>\n",
       "<tr> \n",
       "<td>height</td> \n",
       "<td>1024</td> \n",
       "<td>0</td> \n",
       "<td>0.0</td> \n",
       "<td>12.4282743823366</td> \n",
       "<td>nm</td> </tr></table>\n",
       "<table style='width:100%'>\n",
       "\n",
       "<tr> \n",
       "<th>Signal axis name</th> \n",
       "<th>size</th> \n",
       "<th>offset</th> \n",
       "<th>scale</th> \n",
       "<th>units</th> </tr>\n",
       "<tr> \n",
       "<td>Energy</td> \n",
       "<td>4096</td> \n",
       "<td>-0.95060984</td> \n",
       "<td>0.009998</td> \n",
       "<td>keV</td> </tr></table>\n"
      ],
      "text/plain": [
       "<Axes manager, axes: (1024, 1024|4096)>\n",
       "            Name |   size |  index |  offset |   scale |  units \n",
       "================ | ====== | ====== | ======= | ======= | ====== \n",
       "           width |   1024 |      0 |       0 |      12 |     nm \n",
       "          height |   1024 |      0 |       0 |      12 |     nm \n",
       "---------------- | ------ | ------ | ------- | ------- | ------ \n",
       "          Energy |   4096 |        |   -0.95 |    0.01 |    keV "
      ]
     },
     "execution_count": 57,
     "metadata": {},
     "output_type": "execute_result"
    }
   ],
   "source": [
    "Ni_wedge.axes_manager"
   ]
  },
  {
   "cell_type": "code",
   "execution_count": 55,
   "metadata": {},
   "outputs": [
    {
     "data": {
      "application/vnd.jupyter.widget-view+json": {
       "model_id": "53c3eae0244647448613979ebb2fc8d2"
      }
     },
     "metadata": {},
     "output_type": "display_data"
    }
   ],
   "source": [
    "Ni_wedge.axes_manager.gui()"
   ]
  },
  {
   "cell_type": "code",
   "execution_count": 58,
   "metadata": {},
   "outputs": [
    {
     "data": {
      "text/plain": [
       "├── Acquisition_instrument\n",
       "│   └── TEM\n",
       "│       ├── Detector\n",
       "│       │   └── EDS\n",
       "│       │       ├── azimuth_angle = 45.0\n",
       "│       │       ├── detector_type = SuperX\n",
       "│       │       ├── elevation_angle = 18.0\n",
       "│       │       ├── energy_resolution_MnKa = 130.0\n",
       "│       │       └── real_time = -1345.724416\n",
       "│       ├── Stage\n",
       "│       │   └── tilt_alpha = 0.0\n",
       "│       ├── beam_energy = 200\n",
       "│       └── magnification = 7100\n",
       "├── General\n",
       "│   ├── date = 2017-07-13\n",
       "│   ├── original_filename = Ni-EDX04.bcf\n",
       "│   ├── time = 13:18:17\n",
       "│   └── title = Original Data Wedge\n",
       "├── Sample\n",
       "│   ├── elements = ['Ni']\n",
       "│   ├── name = Undefinded\n",
       "│   └── xray_lines = ['Ni_Ka', 'Ni_Kb']\n",
       "└── Signal\n",
       "    ├── binned = True\n",
       "    ├── quantity = X-rays (Counts)\n",
       "    └── signal_type = EDS_TEM"
      ]
     },
     "execution_count": 58,
     "metadata": {},
     "output_type": "execute_result"
    }
   ],
   "source": [
    "Ni_wedge.set_elements(['Ni'])\n",
    "Ni_wedge.set_lines(['Ni_Ka', 'Ni_Kb'])\n",
    "Ni_wedge.metadata"
   ]
  },
  {
   "cell_type": "code",
   "execution_count": 59,
   "metadata": {},
   "outputs": [
    {
     "data": {
      "application/vnd.jupyter.widget-view+json": {
       "model_id": "b85a13cdadf14bc9ad8e2dba86554c41"
      }
     },
     "metadata": {},
     "output_type": "display_data"
    },
    {
     "data": {
      "application/vnd.jupyter.widget-view+json": {
       "model_id": "36294a4023f74d5dbdc7c0cf45c9c350"
      }
     },
     "metadata": {},
     "output_type": "display_data"
    }
   ],
   "source": [
    "Ni_wedge.set_microscope_parameters(beam_energy = 200)\n",
    "Ni_wedge.set_microscope_parameters(live_time = 0.002567)\n",
    "Ni_wedge.set_microscope_parameters(beam_current = 0.074) #in nA\n",
    "Ni_wedge.set_microscope_parameters(real_time = 0.002567) #dwell time per pixel"
   ]
  },
  {
   "cell_type": "code",
   "execution_count": 73,
   "metadata": {},
   "outputs": [
    {
     "name": "stderr",
     "output_type": "stream",
     "text": [
      "c:\\program files\\anaconda3\\lib\\site-packages\\matplotlib\\pyplot.py:524: RuntimeWarning: More than 20 figures have been opened. Figures created through the pyplot interface (`matplotlib.pyplot.figure`) are retained until explicitly closed and may consume too much memory. (To control this warning, see the rcParam `figure.max_open_warning`).\n",
      "  max_open_warning, RuntimeWarning)\n",
      "WARNING:hyperspy.drawing.figure:Please report this warning to the developers: `_draw_animated` was called before `draw`.\n",
      "WARNING:hyperspy.drawing.figure:Please report this warning to the developers: `_draw_animated` was called before `draw`.\n",
      "WARNING:hyperspy.drawing.figure:Please report this warning to the developers: `_draw_animated` was called before `draw`.\n",
      "WARNING:hyperspy.drawing.figure:Please report this warning to the developers: `_draw_animated` was called before `draw`.\n",
      "WARNING:hyperspy.drawing.figure:Please report this warning to the developers: `_draw_animated` was called before `draw`.\n",
      "WARNING:hyperspy.drawing.figure:Please report this warning to the developers: `_draw_animated` was called before `draw`.\n"
     ]
    },
    {
     "data": {
      "text/plain": [
       "array([[ 6.61175942,  6.75614952,  9.56970943,  9.72871415],\n",
       "       [ 6.61175942,  6.75614952,  9.56970943,  9.72871415],\n",
       "       [ 6.61175942,  6.75614952,  8.34628116,  8.49552173]])"
      ]
     },
     "execution_count": 73,
     "metadata": {},
     "output_type": "execute_result"
    }
   ],
   "source": [
    "Ni_wedge.plot(True)\n",
    "Ni_wedge.add_lines()\n",
    "bw_Ni = Ni_wedge.estimate_background_windows(line_width=[5.0, 2.0])\n",
    "bw_Ni"
   ]
  },
  {
   "cell_type": "code",
   "execution_count": 74,
   "metadata": {},
   "outputs": [
    {
     "data": {
      "text/plain": [
       "[[7.898559422407979, 8.197040577592022],\n",
       " [9.092695283088833, 9.410704716911166],\n",
       " [7.333709903386694, 7.622490096613307]]"
      ]
     },
     "execution_count": 74,
     "metadata": {},
     "output_type": "execute_result"
    }
   ],
   "source": [
    "iw_Ni = Ni_wedge.estimate_integration_windows(windows_width=2)\n",
    "iw_Ni"
   ]
  },
  {
   "cell_type": "code",
   "execution_count": 75,
   "metadata": {},
   "outputs": [
    {
     "name": "stderr",
     "output_type": "stream",
     "text": [
      "c:\\program files\\anaconda3\\lib\\site-packages\\matplotlib\\pyplot.py:524: RuntimeWarning: More than 20 figures have been opened. Figures created through the pyplot interface (`matplotlib.pyplot.figure`) are retained until explicitly closed and may consume too much memory. (To control this warning, see the rcParam `figure.max_open_warning`).\n",
      "  max_open_warning, RuntimeWarning)\n",
      "WARNING:hyperspy.drawing.figure:Please report this warning to the developers: `_draw_animated` was called before `draw`.\n",
      "WARNING:hyperspy.drawing.figure:Please report this warning to the developers: `_draw_animated` was called before `draw`.\n",
      "WARNING:hyperspy.drawing.figure:Please report this warning to the developers: `_draw_animated` was called before `draw`.\n",
      "WARNING:hyperspy.drawing.figure:Please report this warning to the developers: `_draw_animated` was called before `draw`.\n",
      "WARNING:hyperspy.drawing.figure:Please report this warning to the developers: `_draw_animated` was called before `draw`.\n",
      "WARNING:hyperspy.drawing.figure:Please report this warning to the developers: `_draw_animated` was called before `draw`.\n",
      "WARNING:hyperspy.drawing.figure:Please report this warning to the developers: `_draw_animated` was called before `draw`.\n",
      "WARNING:hyperspy.drawing.figure:Please report this warning to the developers: `_draw_animated` was called before `draw`.\n",
      "WARNING:hyperspy.drawing.figure:Please report this warning to the developers: `_draw_animated` was called before `draw`.\n",
      "WARNING:hyperspy.drawing.figure:Please report this warning to the developers: `_draw_animated` was called before `draw`.\n",
      "WARNING:hyperspy.drawing.figure:Please report this warning to the developers: `_draw_animated` was called before `draw`.\n",
      "WARNING:hyperspy.drawing.figure:Please report this warning to the developers: `_draw_animated` was called before `draw`.\n",
      "WARNING:hyperspy.drawing.figure:Please report this warning to the developers: `_draw_animated` was called before `draw`.\n",
      "WARNING:hyperspy.drawing.figure:Please report this warning to the developers: `_draw_animated` was called before `draw`.\n",
      "WARNING:hyperspy.drawing.figure:Please report this warning to the developers: `_draw_animated` was called before `draw`.\n",
      "WARNING:hyperspy.drawing.figure:Please report this warning to the developers: `_draw_animated` was called before `draw`.\n",
      "WARNING:hyperspy.drawing.figure:Please report this warning to the developers: `_draw_animated` was called before `draw`.\n",
      "WARNING:hyperspy.drawing.figure:Please report this warning to the developers: `_draw_animated` was called before `draw`.\n",
      "WARNING:hyperspy.drawing.figure:Please report this warning to the developers: `_draw_animated` was called before `draw`.\n",
      "WARNING:hyperspy.drawing.figure:Please report this warning to the developers: `_draw_animated` was called before `draw`.\n",
      "WARNING:hyperspy.drawing.figure:Please report this warning to the developers: `_draw_animated` was called before `draw`.\n",
      "WARNING:hyperspy.drawing.figure:Please report this warning to the developers: `_draw_animated` was called before `draw`.\n",
      "WARNING:hyperspy.drawing.figure:Please report this warning to the developers: `_draw_animated` was called before `draw`.\n",
      "WARNING:hyperspy.drawing.figure:Please report this warning to the developers: `_draw_animated` was called before `draw`.\n",
      "WARNING:hyperspy.drawing.figure:Please report this warning to the developers: `_draw_animated` was called before `draw`.\n",
      "WARNING:hyperspy.drawing.figure:Please report this warning to the developers: `_draw_animated` was called before `draw`.\n",
      "WARNING:hyperspy.drawing.figure:Please report this warning to the developers: `_draw_animated` was called before `draw`.\n"
     ]
    }
   ],
   "source": [
    "Ni_wedge.sum().plot(True, background_windows=bw_Ni, integration_windows=iw_Ni)"
   ]
  },
  {
   "cell_type": "code",
   "execution_count": 70,
   "metadata": {},
   "outputs": [
    {
     "name": "stderr",
     "output_type": "stream",
     "text": [
      "c:\\program files\\anaconda3\\lib\\site-packages\\matplotlib\\pyplot.py:524: RuntimeWarning: More than 20 figures have been opened. Figures created through the pyplot interface (`matplotlib.pyplot.figure`) are retained until explicitly closed and may consume too much memory. (To control this warning, see the rcParam `figure.max_open_warning`).\n",
      "  max_open_warning, RuntimeWarning)\n",
      "c:\\program files\\anaconda3\\lib\\site-packages\\matplotlib\\axes\\_base.py:3193: UserWarning: Attempting to set identical bottom==top results\n",
      "in singular transformations; automatically expanding.\n",
      "bottom=0, top=0\n",
      "  'bottom=%s, top=%s') % (bottom, top))\n"
     ]
    }
   ],
   "source": [
    "Ni_wedge.inav[0:1024, 430:494].plot()"
   ]
  },
  {
   "cell_type": "code",
   "execution_count": 71,
   "metadata": {},
   "outputs": [
    {
     "name": "stderr",
     "output_type": "stream",
     "text": [
      "c:\\program files\\anaconda3\\lib\\site-packages\\matplotlib\\pyplot.py:524: RuntimeWarning: More than 20 figures have been opened. Figures created through the pyplot interface (`matplotlib.pyplot.figure`) are retained until explicitly closed and may consume too much memory. (To control this warning, see the rcParam `figure.max_open_warning`).\n",
      "  max_open_warning, RuntimeWarning)\n"
     ]
    }
   ],
   "source": [
    "Ni_wedge0 = Ni_wedge\n",
    "Ni_wedge = Ni_wedge.inav[0:1024, 430:494]\n",
    "Ni_wedge.plot()"
   ]
  },
  {
   "cell_type": "code",
   "execution_count": 34,
   "metadata": {},
   "outputs": [],
   "source": [
    "Ni_wedge.save('Ni02EDX-processed')"
   ]
  },
  {
   "cell_type": "code",
   "execution_count": 76,
   "metadata": {},
   "outputs": [
    {
     "data": {
      "text/plain": [
       "[<BaseSignal, title: X-ray line intensity of Original Data Wedge: Cu_Ka at 8.05 keV, dimensions: (1024, 64|)>,\n",
       " <BaseSignal, title: X-ray line intensity of Original Data Wedge: Ga_Ka at 9.25 keV, dimensions: (1024, 64|)>,\n",
       " <BaseSignal, title: X-ray line intensity of Original Data Wedge: Ni_Ka at 7.48 keV, dimensions: (1024, 64|)>]"
      ]
     },
     "execution_count": 76,
     "metadata": {},
     "output_type": "execute_result"
    }
   ],
   "source": [
    "inten_Ni = Ni_wedge.get_lines_intensity(background_windows=bw_Ni)\n",
    "inten_Ni"
   ]
  },
  {
   "cell_type": "markdown",
   "metadata": {},
   "source": [
    "## 5. Conversion from the Intensity Maps to Cross Sections\n",
    "\n",
    "The following function will calculate the cross section of a for a single element wedge sample with a known angle. It assumes that the line profile is parallel to the x-axis in the image. \n",
    "\n",
    "*The function will also print the error in the gradient measurement which is important for subsequent error analysis of the quantificationt results.*"
   ]
  },
  {
   "cell_type": "code",
   "execution_count": 77,
   "metadata": {},
   "outputs": [],
   "source": [
    "def cross_section_from_wedge(intensity,\n",
    "                            angle,\n",
    "                            atomic_density):\n",
    "    \"\"\"\n",
    "    \n",
    "    Parameters\n",
    "    ----------\n",
    "        \n",
    "    intensity : array\n",
    "        \n",
    "    angle : float\n",
    "        Of the FIB wedge in degrees.\n",
    "    atomic_density: float \n",
    "        Of the particular element in units of atoms/nm^3.\n",
    "        (Pt = 33.2026, Ni = 45.8566)\n",
    "    \n",
    "    Returns\n",
    "    -------\n",
    "    cross_section : float\n",
    "        partial ionisation cross section\n",
    "    \n",
    "    \"\"\"\n",
    "    \n",
    "    from scipy import constants\n",
    "    import math\n",
    "    e = constants.e\n",
    "    parameters = intensity[0].metadata.Acquisition_instrument.TEM\n",
    "    curr = parameters.beam_current\n",
    "    dwell = parameters.Detector.EDS.real_time\n",
    "    width = intensity[0].axes_manager[0].scale\n",
    "    angle = angle/360*constants.pi*2\n",
    "\n",
    "    #begin by converting the intensity array to a line profile.\n",
    "    #works for square images, needs checking for those which are non-square.\n",
    "    line_scan = np.zeros(intensity[0].axes_manager.signal_shape[0])\n",
    "    line_scan.astype(float)\n",
    "    for row in range(intensity[0].axes_manager.signal_shape[1]):\n",
    "        for col in range(intensity[0].axes_manager.signal_shape[0]):\n",
    "            line_scan[col] = intensity[0].data[row, col] + line_scan[col]\n",
    "    \n",
    "    line_scan = line_scan/(intensity[0].axes_manager.signal_shape[1]*width)\n",
    "    x_data = np.zeros(intensity[0].axes_manager.signal_shape[0])\n",
    "    x_data.astype(float)\n",
    "    for i in range(intensity[0].axes_manager.signal_shape[0]):\n",
    "        x_data[i] = i*width\n",
    "    \n",
    "    import matplotlib.pyplot as plt\n",
    "    plt.figure(figsize=(10, 6), dpi=80)\n",
    "    plt.plot(x_data, line_scan)\n",
    "    plt.show()\n",
    "    #curve fitting to line scan to find gradient\n",
    "    #using  a non-linear least squares fitting.\n",
    "    from scipy.optimize import curve_fit\n",
    "    def func(x, m, c):\n",
    "        return m*x + c\n",
    "    popt, pcov = curve_fit(func, x_data, line_scan)\n",
    "    \n",
    "    m = popt[0]\n",
    "    print('m =', m)\n",
    "    perr = np.sqrt(np.diag(pcov))\n",
    "    m_err = perr[0] #the error in m measurement\n",
    "    print('Error in m =', m_err)\n",
    "    \n",
    "    #calculate cross_section\n",
    "    cross_section = (e*1E19*m)/(curr*dwell*atomic_density*math.tan(angle))\n",
    "    return cross_section"
   ]
  },
  {
   "cell_type": "markdown",
   "metadata": {},
   "source": [
    "Calculate the cross section for each element from the previously extracted intensity maps."
   ]
  },
  {
   "cell_type": "code",
   "execution_count": 79,
   "metadata": {},
   "outputs": [
    {
     "data": {
      "text/plain": [
       "[<BaseSignal, title: X-ray line intensity of Original Data Wedge: Pt_La at 9.44 keV, dimensions: (1024, 64|)>]"
      ]
     },
     "execution_count": 79,
     "metadata": {},
     "output_type": "execute_result"
    }
   ],
   "source": [
    "inten_Pt"
   ]
  },
  {
   "cell_type": "code",
   "execution_count": 97,
   "metadata": {},
   "outputs": [],
   "source": [
    "inten_Pt[0].save('PtEDX01-inten')"
   ]
  },
  {
   "cell_type": "code",
   "execution_count": 80,
   "metadata": {},
   "outputs": [
    {
     "ename": "AttributeError",
     "evalue": "'DictionaryTreeBrowser' object has no attribute 'beam_current'",
     "output_type": "error",
     "traceback": [
      "\u001b[0;31m---------------------------------------------------------------------------\u001b[0m",
      "\u001b[0;31mAttributeError\u001b[0m                            Traceback (most recent call last)",
      "\u001b[0;32m<ipython-input-80-04eeef3183b7>\u001b[0m in \u001b[0;36m<module>\u001b[0;34m()\u001b[0m\n\u001b[1;32m      1\u001b[0m cross_section_Pt = cross_section_from_wedge(inten_Pt,\n\u001b[1;32m      2\u001b[0m                                             \u001b[1;36m0.269\u001b[0m\u001b[1;33m,\u001b[0m\u001b[1;33m\u001b[0m\u001b[0m\n\u001b[0;32m----> 3\u001b[0;31m                                             33.2026)\n\u001b[0m",
      "\u001b[0;32m<ipython-input-77-553453335946>\u001b[0m in \u001b[0;36mcross_section_from_wedge\u001b[0;34m(intensity, angle, atomic_density)\u001b[0m\n\u001b[1;32m     26\u001b[0m     \u001b[0me\u001b[0m \u001b[1;33m=\u001b[0m \u001b[0mconstants\u001b[0m\u001b[1;33m.\u001b[0m\u001b[0me\u001b[0m\u001b[1;33m\u001b[0m\u001b[0m\n\u001b[1;32m     27\u001b[0m     \u001b[0mparameters\u001b[0m \u001b[1;33m=\u001b[0m \u001b[0mintensity\u001b[0m\u001b[1;33m[\u001b[0m\u001b[1;36m0\u001b[0m\u001b[1;33m]\u001b[0m\u001b[1;33m.\u001b[0m\u001b[0mmetadata\u001b[0m\u001b[1;33m.\u001b[0m\u001b[0mAcquisition_instrument\u001b[0m\u001b[1;33m.\u001b[0m\u001b[0mTEM\u001b[0m\u001b[1;33m\u001b[0m\u001b[0m\n\u001b[0;32m---> 28\u001b[0;31m     \u001b[0mcurr\u001b[0m \u001b[1;33m=\u001b[0m \u001b[0mparameters\u001b[0m\u001b[1;33m.\u001b[0m\u001b[0mbeam_current\u001b[0m\u001b[1;33m\u001b[0m\u001b[0m\n\u001b[0m\u001b[1;32m     29\u001b[0m     \u001b[0mdwell\u001b[0m \u001b[1;33m=\u001b[0m \u001b[0mparameters\u001b[0m\u001b[1;33m.\u001b[0m\u001b[0mDetector\u001b[0m\u001b[1;33m.\u001b[0m\u001b[0mEDS\u001b[0m\u001b[1;33m.\u001b[0m\u001b[0mreal_time\u001b[0m\u001b[1;33m\u001b[0m\u001b[0m\n\u001b[1;32m     30\u001b[0m     \u001b[0mwidth\u001b[0m \u001b[1;33m=\u001b[0m \u001b[0mintensity\u001b[0m\u001b[1;33m[\u001b[0m\u001b[1;36m0\u001b[0m\u001b[1;33m]\u001b[0m\u001b[1;33m.\u001b[0m\u001b[0maxes_manager\u001b[0m\u001b[1;33m[\u001b[0m\u001b[1;36m0\u001b[0m\u001b[1;33m]\u001b[0m\u001b[1;33m.\u001b[0m\u001b[0mscale\u001b[0m\u001b[1;33m\u001b[0m\u001b[0m\n",
      "\u001b[0;32mc:\\users\\macark\\documents\\github\\hyperspy\\hyperspy\\misc\\utils.py\u001b[0m in \u001b[0;36m__getattribute__\u001b[0;34m(self, name)\u001b[0m\n\u001b[1;32m    335\u001b[0m             \u001b[0mname\u001b[0m \u001b[1;33m=\u001b[0m \u001b[0mname\u001b[0m\u001b[1;33m.\u001b[0m\u001b[0mdecode\u001b[0m\u001b[1;33m(\u001b[0m\u001b[1;33m)\u001b[0m\u001b[1;33m\u001b[0m\u001b[0m\n\u001b[1;32m    336\u001b[0m         \u001b[0mname\u001b[0m \u001b[1;33m=\u001b[0m \u001b[0mslugify\u001b[0m\u001b[1;33m(\u001b[0m\u001b[0mname\u001b[0m\u001b[1;33m,\u001b[0m \u001b[0mvalid_variable_name\u001b[0m\u001b[1;33m=\u001b[0m\u001b[1;32mTrue\u001b[0m\u001b[1;33m)\u001b[0m\u001b[1;33m\u001b[0m\u001b[0m\n\u001b[0;32m--> 337\u001b[0;31m         \u001b[0mitem\u001b[0m \u001b[1;33m=\u001b[0m \u001b[0msuper\u001b[0m\u001b[1;33m(\u001b[0m\u001b[0mDictionaryTreeBrowser\u001b[0m\u001b[1;33m,\u001b[0m \u001b[0mself\u001b[0m\u001b[1;33m)\u001b[0m\u001b[1;33m.\u001b[0m\u001b[0m__getattribute__\u001b[0m\u001b[1;33m(\u001b[0m\u001b[0mname\u001b[0m\u001b[1;33m)\u001b[0m\u001b[1;33m\u001b[0m\u001b[0m\n\u001b[0m\u001b[1;32m    338\u001b[0m         \u001b[1;32mif\u001b[0m \u001b[0misinstance\u001b[0m\u001b[1;33m(\u001b[0m\u001b[0mitem\u001b[0m\u001b[1;33m,\u001b[0m \u001b[0mdict\u001b[0m\u001b[1;33m)\u001b[0m \u001b[1;32mand\u001b[0m \u001b[1;34m'_dtb_value_'\u001b[0m \u001b[1;32min\u001b[0m \u001b[0mitem\u001b[0m \u001b[1;32mand\u001b[0m \u001b[1;34m\"key\"\u001b[0m \u001b[1;32min\u001b[0m \u001b[0mitem\u001b[0m\u001b[1;33m:\u001b[0m\u001b[1;33m\u001b[0m\u001b[0m\n\u001b[1;32m    339\u001b[0m             \u001b[1;32mreturn\u001b[0m \u001b[0mitem\u001b[0m\u001b[1;33m[\u001b[0m\u001b[1;34m'_dtb_value_'\u001b[0m\u001b[1;33m]\u001b[0m\u001b[1;33m\u001b[0m\u001b[0m\n",
      "\u001b[0;31mAttributeError\u001b[0m: 'DictionaryTreeBrowser' object has no attribute 'beam_current'"
     ]
    }
   ],
   "source": [
    "cross_section_Pt = cross_section_from_wedge(inten_Pt,\n",
    "                                            0.269,\n",
    "                                            33.2026)"
   ]
  },
  {
   "cell_type": "markdown",
   "metadata": {},
   "source": [
    "An interative process of cropping the line profile to only the linear region is needed for accurate cross section determination. We only want the gradient where the x-ray generation is linear with sample thickness."
   ]
  },
  {
   "cell_type": "code",
   "execution_count": 80,
   "metadata": {},
   "outputs": [
    {
     "data": {
      "text/plain": [
       "[<Signal2D, title: X-ray line intensity of Original Data Wedge: Ni_Ka at 7.48 keV, dimensions: (|400, 64)>]"
      ]
     },
     "execution_count": 80,
     "metadata": {},
     "output_type": "execute_result"
    }
   ],
   "source": [
    "inten_Ni[0] = inten_Ni[0].isig[:400, :]\n",
    "inten_Ni"
   ]
  },
  {
   "cell_type": "code",
   "execution_count": 81,
   "metadata": {},
   "outputs": [
    {
     "name": "stdout",
     "output_type": "stream",
     "text": [
      "m = 0.000323058447471\n",
      "Error in m = 2.00357066389e-06\n"
     ]
    },
    {
     "name": "stderr",
     "output_type": "stream",
     "text": [
      "//anaconda/lib/python3.5/site-packages/matplotlib/pyplot.py:516: RuntimeWarning: More than 20 figures have been opened. Figures created through the pyplot interface (`matplotlib.pyplot.figure`) are retained until explicitly closed and may consume too much memory. (To control this warning, see the rcParam `figure.max_open_warning`).\n",
      "  max_open_warning, RuntimeWarning)\n"
     ]
    }
   ],
   "source": [
    "cross_section_Ni = cross_section_from_wedge(inten_Ni,\n",
    "                                           0.401,\n",
    "                                           45.8566)"
   ]
  },
  {
   "cell_type": "code",
   "execution_count": 86,
   "metadata": {},
   "outputs": [
    {
     "name": "stdout",
     "output_type": "stream",
     "text": [
      "Cross Section Pt 7.81476090922\n",
      "Cross Section Ni 8.48991263031\n"
     ]
    }
   ],
   "source": [
    "print('Cross Section Pt', cross_section_Pt)\n",
    "print('Cross Section Ni', cross_section_Ni)"
   ]
  },
  {
   "cell_type": "code",
   "execution_count": 98,
   "metadata": {
    "collapsed": true
   },
   "outputs": [],
   "source": [
    "inten_Ni[0].save('NiEDX02-inten')"
   ]
  },
  {
   "cell_type": "markdown",
   "metadata": {},
   "source": [
    "## 6.Storing the Cross Sections and Windows into a Library for Later Use"
   ]
  },
  {
   "cell_type": "markdown",
   "metadata": {},
   "source": [
    "Convert the cross section and windows into a dictionary format."
   ]
  },
  {
   "cell_type": "code",
   "execution_count": 100,
   "metadata": {},
   "outputs": [],
   "source": [
    "calibration_Pt = dict = {'lines': 'PtLa', 'cross_section': cross_section_Pt,\n",
    "                         'Background windows': bw_Pt, 'Integration windows': iw_Pt}\n",
    "calibration_Ni = dict = {'lines': 'NiKa', 'cross_section': cross_section_Ni, \n",
    "                         'Background windows': bw_Ni, 'Integration windows': iw_Ni}"
   ]
  },
  {
   "cell_type": "code",
   "execution_count": 101,
   "metadata": {},
   "outputs": [
    {
     "data": {
      "text/plain": [
       "{'Background windows': array([[ 8.47913271,  8.63962726,  9.7630891 ,  9.92358364]]),\n",
       " 'Integration windows': [[9.281605451805987, 9.65]],\n",
       " 'cross_section': 7.8147609092183261,\n",
       " 'lines': 'PLa'}"
      ]
     },
     "execution_count": 101,
     "metadata": {},
     "output_type": "execute_result"
    }
   ],
   "source": [
    "calibration_Pt"
   ]
  },
  {
   "cell_type": "code",
   "execution_count": 102,
   "metadata": {},
   "outputs": [
    {
     "data": {
      "text/plain": [
       "8.4899126303055183"
      ]
     },
     "execution_count": 102,
     "metadata": {},
     "output_type": "execute_result"
    }
   ],
   "source": [
    "calibration = dict = {'Ni': calibration_Ni, 'Pt': calibration_Pt}\n",
    "calibration['Ni']['cross_section']"
   ]
  },
  {
   "cell_type": "code",
   "execution_count": 103,
   "metadata": {},
   "outputs": [
    {
     "name": "stdout",
     "output_type": "stream",
     "text": [
      "Overwrite 'ChemiSTEMCal_V01.hdf5' (y/n)?\n",
      "y\n"
     ]
    }
   ],
   "source": [
    "cal = hs.signals.BaseSignal([0])\n",
    "cal.metadata.calibration = calibration\n",
    "cal.save('ChemiSTEMCal_V01')"
   ]
  },
  {
   "cell_type": "markdown",
   "metadata": {},
   "source": [
    "The following function can be used to check which elements are stored in the dictionary."
   ]
  },
  {
   "cell_type": "code",
   "execution_count": 104,
   "metadata": {},
   "outputs": [
    {
     "data": {
      "text/plain": [
       "dict_keys(['Ni', 'Pt'])"
      ]
     },
     "execution_count": 104,
     "metadata": {},
     "output_type": "execute_result"
    }
   ],
   "source": [
    "calibration.keys()"
   ]
  },
  {
   "cell_type": "markdown",
   "metadata": {},
   "source": [
    "**Any functions below this point are for testing, and not needed in the method above.**"
   ]
  },
  {
   "cell_type": "code",
   "execution_count": 92,
   "metadata": {},
   "outputs": [],
   "source": [
    "calibration['Ni'] = calibration_Ni"
   ]
  },
  {
   "cell_type": "code",
   "execution_count": 93,
   "metadata": {
    "collapsed": true
   },
   "outputs": [],
   "source": [
    "del calibration['Ni']"
   ]
  },
  {
   "cell_type": "code",
   "execution_count": 94,
   "metadata": {
    "collapsed": true
   },
   "outputs": [],
   "source": [
    "calibration2 = cal.metadata.calibration"
   ]
  }
 ],
 "metadata": {
  "anaconda-cloud": {},
  "kernelspec": {
   "display_name": "Python [default]",
   "language": "python",
   "name": "python3"
  },
  "language_info": {
   "codemirror_mode": {
    "name": "ipython",
    "version": 3
   },
   "file_extension": ".py",
   "mimetype": "text/x-python",
   "name": "python",
   "nbconvert_exporter": "python",
   "pygments_lexer": "ipython3",
   "version": "3.5.2"
  }
 },
 "nbformat": 4,
 "nbformat_minor": 1
}
