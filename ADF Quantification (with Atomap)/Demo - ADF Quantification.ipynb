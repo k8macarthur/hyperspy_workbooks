{
 "cells": [
  {
   "cell_type": "markdown",
   "metadata": {},
   "source": [
    "# Method for Analysing and Quantifying the Intensity of ADF STEM Images"
   ]
  },
  {
   "cell_type": "markdown",
   "metadata": {},
   "source": [
    "This notebook was first written March 2018"
   ]
  },
  {
   "cell_type": "markdown",
   "metadata": {},
   "source": [
    "## Step 1 : Import hyperspy and atomap."
   ]
  },
  {
   "cell_type": "code",
   "execution_count": 1,
   "metadata": {
    "collapsed": true
   },
   "outputs": [],
   "source": [
    "import matplotlib\n",
    "matplotlib.rcParams[\"backend\"] = 'Qt4Agg'\n",
    "import hyperspy.api as hs\n",
    "import numpy as np\n",
    "%matplotlib qt4\n",
    "import atomap.api as am"
   ]
  },
  {
   "cell_type": "markdown",
   "metadata": {},
   "source": [
    "## Step 2: Import and analyse electron flux."
   ]
  },
  {
   "cell_type": "code",
   "execution_count": 2,
   "metadata": {},
   "outputs": [],
   "source": [
    "s = hs.load('PACBED.tif')\n",
    "s.plot()\n",
    "flux_pattern = s.data\n"
   ]
  },
  {
   "cell_type": "markdown",
   "metadata": {},
   "source": [
    "The following step creates an interactive plot to select the region which to fit a power law to the flux patter. Until anything is selected 'profiler' will be empty intially."
   ]
  },
  {
   "cell_type": "code",
   "execution_count": 3,
   "metadata": {},
   "outputs": [
    {
     "name": "stdout",
     "output_type": "stream",
     "text": [
      "Coordinates selected 64 670\n",
      "Coordinates selected 64 433\n",
      "Final coordinates are: 64, 433!\n",
      "Coordinates selected 64 433\n"
     ]
    }
   ],
   "source": [
    "profiler = am.quant.find_flux_limits(flux_pattern, 25)"
   ]
  },
  {
   "cell_type": "markdown",
   "metadata": {},
   "source": [
    "Select the left limit with the left mouse button, the right limit with the right mouse button and then confirm with the centre button.\n",
    "\n",
    "Once coordinates have been seleted a message will be printed above confirming. Running analyse_flux fits a power law to the flux profile in the selected region."
   ]
  },
  {
   "cell_type": "code",
   "execution_count": 4,
   "metadata": {},
   "outputs": [
    {
     "data": {
      "text/plain": [
       "(2.9246172492618627, 472.22222222222223)"
      ]
     },
     "execution_count": 4,
     "metadata": {},
     "output_type": "execute_result"
    }
   ],
   "source": [
    "expo = am.quant.analyse_flux(profiler[0].coords, profiler[1], 25)\n",
    "expo"
   ]
  },
  {
   "cell_type": "markdown",
   "metadata": {},
   "source": [
    "## Step 3: Import the an experimental image and a detector map."
   ]
  },
  {
   "cell_type": "code",
   "execution_count": 5,
   "metadata": {
    "collapsed": true
   },
   "outputs": [],
   "source": [
    "s = hs.load('Pt0.7Ni0.3_ADF.tif')\n",
    "s.plot()\n",
    "det_image = am.example_data.get_detector_image_signal()"
   ]
  },
  {
   "cell_type": "markdown",
   "metadata": {},
   "source": [
    "## Step 4: Normalised images to an absolute scale."
   ]
  },
  {
   "cell_type": "markdown",
   "metadata": {},
   "source": [
    "For detector quantification with flux weighting use:"
   ]
  },
  {
   "cell_type": "code",
   "execution_count": 6,
   "metadata": {
    "collapsed": true
   },
   "outputs": [],
   "source": [
    "s_normalised = am.quant.detector_normalisation (s,\n",
    "                                                det_image,\n",
    "                                                inner_angle=60,\n",
    "                                                outer_angle = 'None',\n",
    "                                                flux_expo=expo[0])\n",
    "s_normalised.plot()"
   ]
  },
  {
   "cell_type": "markdown",
   "metadata": {
    "collapsed": true
   },
   "source": [
    "For detector quantification without flux weighting simply remove the flux exponent."
   ]
  },
  {
   "cell_type": "code",
   "execution_count": 52,
   "metadata": {
    "collapsed": true
   },
   "outputs": [],
   "source": [
    "s_normalised2 = am.quant.detector_normalisation (s,\n",
    "                                                det_image,\n",
    "                                                inner_angle=60,\n",
    "                                                outer_angle = 'None')"
   ]
  },
  {
   "cell_type": "markdown",
   "metadata": {
    "collapsed": true
   },
   "source": [
    "## Step 5: Carry out peak finding on normalised image."
   ]
  },
  {
   "cell_type": "code",
   "execution_count": 7,
   "metadata": {},
   "outputs": [
    {
     "name": "stderr",
     "output_type": "stream",
     "text": [
      "100%|██████████████████████████████████████████████████████████████████████████████████| 25/25 [00:00<00:00, 51.69it/s]\n",
      "100%|██████████████████████████████████████████████████████████████████████████████| 256/256 [00:00<00:00, 5995.01it/s]\n"
     ]
    }
   ],
   "source": [
    "s_peaks = am.get_feature_separation(s, separation_range=(5,30), threshold_rel=0.1)\n",
    "s_peaks.plot()"
   ]
  },
  {
   "cell_type": "code",
   "execution_count": 8,
   "metadata": {
    "collapsed": true
   },
   "outputs": [],
   "source": [
    "atom_positions = am.get_atom_positions(s, 8, threshold_rel=0.1)"
   ]
  },
  {
   "cell_type": "code",
   "execution_count": 9,
   "metadata": {
    "collapsed": true
   },
   "outputs": [],
   "source": [
    "sublattice = am.Sublattice(atom_positions, s.data)\n",
    "sublattice.get_atom_list_on_image().plot()"
   ]
  },
  {
   "cell_type": "code",
   "execution_count": 10,
   "metadata": {
    "collapsed": true
   },
   "outputs": [],
   "source": [
    "sublattice.construct_zone_axes()"
   ]
  },
  {
   "cell_type": "code",
   "execution_count": 11,
   "metadata": {},
   "outputs": [
    {
     "name": "stderr",
     "output_type": "stream",
     "text": [
      "Gaussian fitting: 100%|██████████████████████████████████████████████████████████████| 256/256 [00:04<00:00, 53.14it/s]\n"
     ]
    }
   ],
   "source": [
    "sublattice.refine_atom_positions_using_2d_gaussian(sublattice.image)"
   ]
  },
  {
   "cell_type": "markdown",
   "metadata": {},
   "source": [
    "## Step 6: Carry out integration of intensity over each atomic column."
   ]
  },
  {
   "cell_type": "code",
   "execution_count": 13,
   "metadata": {
    "collapsed": true
   },
   "outputs": [],
   "source": [
    "(integrated_s, intensityRecord, pointRecord) = am.integrate(s_normalised, sublattice.x_position, sublattice.y_position, method='Voronoi', max_radius=13)"
   ]
  },
  {
   "cell_type": "code",
   "execution_count": 78,
   "metadata": {
    "collapsed": true
   },
   "outputs": [],
   "source": [
    "intensityRecord.plot(cmap='viridis')"
   ]
  },
  {
   "cell_type": "markdown",
   "metadata": {},
   "source": [
    "Please note no multiplication is added au"
   ]
  }
 ],
 "metadata": {
  "anaconda-cloud": {},
  "kernelspec": {
   "display_name": "Python [conda root]",
   "language": "python",
   "name": "conda-root-py"
  },
  "language_info": {
   "codemirror_mode": {
    "name": "ipython",
    "version": 3
   },
   "file_extension": ".py",
   "mimetype": "text/x-python",
   "name": "python",
   "nbconvert_exporter": "python",
   "pygments_lexer": "ipython3",
   "version": "3.5.2"
  }
 },
 "nbformat": 4,
 "nbformat_minor": 2
}
