{
 "cells": [
  {
   "cell_type": "markdown",
   "metadata": {},
   "source": [
    "Imports the Hyperspy Function Library"
   ]
  },
  {
   "cell_type": "code",
   "execution_count": 1,
   "metadata": {
    "collapsed": false
   },
   "outputs": [],
   "source": [
    "import matplotlib\n",
    "matplotlib.rcParams[\"backend\"] = 'Qt4Agg'\n",
    "import hyperspy.api as hs\n",
    "import numpy as np\n",
    "%matplotlib qt4"
   ]
  },
  {
   "cell_type": "markdown",
   "metadata": {},
   "source": [
    "Opens a load window. Use hs.load('filename') if filename is known specifically."
   ]
  },
  {
   "cell_type": "code",
   "execution_count": 30,
   "metadata": {
    "collapsed": false
   },
   "outputs": [
    {
     "data": {
      "text/plain": [
       "<EELSSpectrum, title: Original Data Wedge, dimensions: (200, 5|2048)>"
      ]
     },
     "execution_count": 30,
     "metadata": {},
     "output_type": "execute_result"
    }
   ],
   "source": [
    "wedge = hs.load()\n",
    "wedge.set_signal_type('EELS')\n",
    "wedge.metadata.General.title = 'Original Data Wedge'\n",
    "wedge"
   ]
  },
  {
   "cell_type": "markdown",
   "metadata": {},
   "source": [
    "Check current metadata."
   ]
  },
  {
   "cell_type": "code",
   "execution_count": 31,
   "metadata": {
    "collapsed": false
   },
   "outputs": [
    {
     "data": {
      "text/plain": [
       "├── Acquisition_instrument\n",
       "│   └── TEM\n",
       "│       ├── Detector\n",
       "│       │   └── EELS\n",
       "│       │       └── collection_angle = 19.379844665527344\n",
       "│       ├── beam_energy = 200.0\n",
       "│       ├── convergence_angle = 25.0\n",
       "│       └── dwell_time = 0.002\n",
       "├── General\n",
       "│   ├── original_filename = EELS Spectrum Image.dm3\n",
       "│   └── title = Original Data Wedge\n",
       "└── Signal\n",
       "    ├── binned = True\n",
       "    └── signal_type = EELS"
      ]
     },
     "execution_count": 31,
     "metadata": {},
     "output_type": "execute_result"
    }
   ],
   "source": [
    "wedge.metadata"
   ]
  },
  {
   "cell_type": "code",
   "execution_count": 4,
   "metadata": {
    "collapsed": false
   },
   "outputs": [],
   "source": [
    "wedge.plot()\n",
    "wedge.axes_manager.gui()"
   ]
  },
  {
   "cell_type": "markdown",
   "metadata": {},
   "source": [
    "Adjust the metadata for all the sample parameters."
   ]
  },
  {
   "cell_type": "code",
   "execution_count": 32,
   "metadata": {
    "collapsed": false
   },
   "outputs": [],
   "source": [
    "wedge.metadata.Acquisition_instrument.TEM.dwell_time = 1\n",
    "wedge.axes_manager[0].scale = 64\n",
    "wedge.axes_manager[1].scale = 64"
   ]
  },
  {
   "cell_type": "markdown",
   "metadata": {},
   "source": [
    "Extract t over lambda using estimate_thickness(point), where point is the first minimum point after the zero loss peak."
   ]
  },
  {
   "cell_type": "code",
   "execution_count": 33,
   "metadata": {
    "collapsed": false
   },
   "outputs": [
    {
     "name": "stderr",
     "output_type": "stream",
     "text": [
      "100%|██████████| 1000/1000 [00:00<00:00, 6306.71it/s]"
     ]
    },
    {
     "name": "stdout",
     "output_type": "stream",
     "text": [
      "\n",
      "Initial ZLP position statistics\n",
      "-------------------------------\n",
      "Summary statistics\n",
      "------------------\n",
      "mean:\t-0.897\n",
      "std:\t2.489\n",
      "\n",
      "min:\t-5.200\n",
      "Q1:\t-3.000\n",
      "median:\t-0.900\n",
      "Q3:\t1.300\n",
      "max:\t3.400\n"
     ]
    },
    {
     "name": "stderr",
     "output_type": "stream",
     "text": [
      "\n",
      "100%|██████████| 1000/1000 [00:00<00:00, 6581.32it/s]\n",
      "100%|██████████| 1000/1000 [00:00<00:00, 6246.65it/s]\n"
     ]
    }
   ],
   "source": [
    "wedge.align_zero_loss_peak()"
   ]
  },
  {
   "cell_type": "code",
   "execution_count": 47,
   "metadata": {
    "collapsed": false
   },
   "outputs": [
    {
     "data": {
      "text/plain": [
       "<hyperspy.gui.egerton_quantification.SpikesRemoval at 0x142030eb8>"
      ]
     },
     "execution_count": 47,
     "metadata": {},
     "output_type": "execute_result"
    }
   ],
   "source": [
    "wedge.isig[:150].spikes_removal_tool()"
   ]
  },
  {
   "cell_type": "code",
   "execution_count": 27,
   "metadata": {
    "collapsed": false
   },
   "outputs": [],
   "source": [
    "s = wedge.estimate_elastic_scattering_threshold()"
   ]
  },
  {
   "cell_type": "code",
   "execution_count": 35,
   "metadata": {
    "collapsed": false
   },
   "outputs": [],
   "source": [
    "\n",
    "wedge.plot()"
   ]
  },
  {
   "cell_type": "code",
   "execution_count": 51,
   "metadata": {
    "collapsed": false
   },
   "outputs": [],
   "source": [
    "thickness = wedge.estimate_thickness(5.5)\n",
    "thickness.plot()"
   ]
  },
  {
   "cell_type": "markdown",
   "metadata": {},
   "source": [
    "# Convert from the intensity map to Line Profile\n",
    "This assumes that the line profile is parallel to the x-axis in the image."
   ]
  },
  {
   "cell_type": "code",
   "execution_count": 68,
   "metadata": {
    "collapsed": false
   },
   "outputs": [],
   "source": [
    "intensity = thickness\n",
    "width = intensity.axes_manager[0].scale\n",
    "line_scan = np.zeros(intensity.axes_manager.signal_shape[0])\n",
    "line_scan.astype(float)\n",
    "for row in range(intensity.axes_manager.signal_shape[1]):\n",
    "    for col in range(intensity.axes_manager.signal_shape[0]):\n",
    "        line_scan[col] = line_scan[col] + intensity.data[row, col]\n",
    "    \n",
    "line_scan = line_scan/intensity.axes_manager.signal_shape[1]\n",
    "x_data = np.zeros(intensity.axes_manager.signal_shape[0])\n",
    "x_data.astype(float)\n",
    "for i in range(intensity.axes_manager.signal_shape[0]):\n",
    "    x_data[i] = i*width"
   ]
  },
  {
   "cell_type": "code",
   "execution_count": 69,
   "metadata": {
    "collapsed": false,
    "scrolled": true
   },
   "outputs": [
    {
     "name": "stdout",
     "output_type": "stream",
     "text": [
      "0.0273050349206\n",
      "0.071931026876\n",
      "0.201623170823\n",
      "0.39266422987\n",
      "0.508926820755\n",
      "0.536274582148\n",
      "0.544236814976\n",
      "0.553057360649\n",
      "0.561177241802\n",
      "0.567320179939\n",
      "0.574176979065\n",
      "0.588683390617\n",
      "0.610193967819\n",
      "0.622769320011\n",
      "0.636157143116\n",
      "0.634416556358\n",
      "0.641336143017\n",
      "0.606482183933\n",
      "0.564242196083\n",
      "0.562649035454\n",
      "0.572112858295\n",
      "0.590232872963\n",
      "0.603809809685\n",
      "0.606436097622\n",
      "0.606679689884\n",
      "0.615030515194\n",
      "0.612078249454\n",
      "0.609226918221\n",
      "0.606913876534\n",
      "0.598732352257\n",
      "0.60426980257\n",
      "0.609426629543\n",
      "0.614152121544\n",
      "0.61649056673\n",
      "0.621168959141\n",
      "0.628401255608\n",
      "0.613984620571\n",
      "0.612238705158\n",
      "0.617731702328\n",
      "0.632871246338\n",
      "0.642433059216\n",
      "0.65610922575\n",
      "0.66052634716\n",
      "0.668818485737\n",
      "0.674740731716\n",
      "0.679245400429\n",
      "0.680319881439\n",
      "0.676638913155\n",
      "0.682396304607\n",
      "0.692222356796\n",
      "0.694784879684\n",
      "0.704333031178\n",
      "0.712172651291\n",
      "0.71905374527\n",
      "0.728275036812\n",
      "0.735408782959\n",
      "0.741739022732\n",
      "0.74870647192\n",
      "0.753234481812\n",
      "0.756666207314\n",
      "0.756549143791\n",
      "0.76119145155\n",
      "0.772667133808\n",
      "0.777028143406\n",
      "0.780767989159\n",
      "0.777985930443\n",
      "0.794904839993\n",
      "0.792321705818\n",
      "0.798234724998\n",
      "0.776559984684\n",
      "0.76606938839\n",
      "0.761992704868\n",
      "0.757917809486\n",
      "0.762007927895\n",
      "0.761509823799\n",
      "0.769306707382\n",
      "0.786084640026\n",
      "0.791558229923\n",
      "0.799638283253\n",
      "0.806364369392\n",
      "0.815828371048\n",
      "0.813944280148\n",
      "0.820094656944\n",
      "0.832572972775\n",
      "0.848331081867\n",
      "0.853288948536\n",
      "0.863720178604\n",
      "0.884838867188\n",
      "0.898806667328\n",
      "0.902797722816\n",
      "0.914186322689\n",
      "0.911237859726\n",
      "0.91778857708\n",
      "0.924375379086\n",
      "0.932431578636\n",
      "0.931934559345\n",
      "0.931442260742\n",
      "0.941173219681\n",
      "0.943663454056\n",
      "0.946624958515\n",
      "0.963281023502\n",
      "0.962432098389\n",
      "0.986170101166\n",
      "0.982264506817\n",
      "0.994467246532\n",
      "1.02520596981\n",
      "1.03653047085\n",
      "1.04243872166\n",
      "1.03631441593\n",
      "1.05165793896\n",
      "1.04180116653\n",
      "1.04556987286\n",
      "1.0420050621\n",
      "1.04843711853\n",
      "1.05873055458\n",
      "1.05071103573\n",
      "1.06872341633\n",
      "1.0764703989\n",
      "1.07822420597\n",
      "1.09324915409\n",
      "1.09448962212\n",
      "1.10490913391\n",
      "1.11263563633\n",
      "1.13276014328\n",
      "1.1258528471\n",
      "1.12177293301\n",
      "1.1383957386\n",
      "1.13603191376\n",
      "1.1525936842\n",
      "1.16906850338\n",
      "1.17166645527\n",
      "1.17361383438\n",
      "1.16422364712\n",
      "1.18347306252\n",
      "1.21025791168\n",
      "1.220378232\n",
      "1.2361874342\n",
      "1.22500383854\n",
      "1.21682364941\n",
      "1.21265645027\n",
      "1.22920866013\n",
      "1.23121263981\n",
      "1.23794541359\n",
      "1.24943196774\n",
      "1.25766162872\n",
      "1.25864937305\n",
      "1.25631430149\n",
      "1.23813242912\n",
      "1.23883049488\n",
      "1.23666322231\n",
      "1.2410238266\n",
      "1.2464810133\n",
      "1.25283005238\n",
      "1.27175195217\n",
      "1.27460792065\n",
      "1.28554832935\n",
      "1.2842954874\n",
      "1.28280985355\n",
      "1.28516998291\n",
      "1.29295387268\n",
      "1.30302670002\n",
      "1.30326826572\n",
      "1.31823592186\n",
      "1.34083368778\n",
      "1.38030304909\n",
      "1.40544848442\n",
      "1.40404889584\n",
      "1.39723997116\n",
      "1.38966789246\n",
      "1.38820905685\n",
      "1.38996963501\n",
      "1.41360375881\n",
      "1.40596828461\n",
      "1.41097505093\n",
      "1.42486953735\n",
      "1.42406148911\n",
      "1.42069997787\n",
      "1.43723123074\n",
      "1.40774216652\n",
      "1.3894649744\n",
      "1.378444767\n",
      "1.37676744461\n",
      "1.38850295544\n",
      "1.40514409542\n",
      "1.41862471104\n",
      "1.41814785004\n",
      "1.42991275787\n",
      "1.424599576\n",
      "1.4410859108\n",
      "1.43317275047\n",
      "1.42454748154\n",
      "1.41865952015\n",
      "1.43179302216\n",
      "1.45595214367\n",
      "1.47440471649\n",
      "1.50026502609\n",
      "1.49999198914\n",
      "1.49299082756\n",
      "1.48641488552\n",
      "1.48639130592\n"
     ]
    }
   ],
   "source": [
    "for i in range(len(line_scan)):\n",
    "               print(line_scan[i])"
   ]
  },
  {
   "cell_type": "code",
   "execution_count": 18,
   "metadata": {
    "collapsed": false
   },
   "outputs": [
    {
     "data": {
      "text/plain": [
       "<Signal2D, title: Original Data Wedge, dimensions: (|118, 5)>"
      ]
     },
     "execution_count": 18,
     "metadata": {},
     "output_type": "execute_result"
    }
   ],
   "source": [
    "wedge.estimate_zero_loss_peak_centre()"
   ]
  },
  {
   "cell_type": "code",
   "execution_count": 29,
   "metadata": {
    "collapsed": false
   },
   "outputs": [],
   "source": [
    "wedge.plot()"
   ]
  },
  {
   "cell_type": "code",
   "execution_count": 11,
   "metadata": {
    "collapsed": true
   },
   "outputs": [],
   "source": [
    "wedge.save('Ni04EELS-processed')"
   ]
  },
  {
   "cell_type": "code",
   "execution_count": null,
   "metadata": {
    "collapsed": true
   },
   "outputs": [],
   "source": []
  }
 ],
 "metadata": {
  "kernelspec": {
   "display_name": "Python 3",
   "language": "python",
   "name": "python3"
  },
  "language_info": {
   "codemirror_mode": {
    "name": "ipython",
    "version": 3
   },
   "file_extension": ".py",
   "mimetype": "text/x-python",
   "name": "python",
   "nbconvert_exporter": "python",
   "pygments_lexer": "ipython3",
   "version": "3.5.2"
  }
 },
 "nbformat": 4,
 "nbformat_minor": 0
}
